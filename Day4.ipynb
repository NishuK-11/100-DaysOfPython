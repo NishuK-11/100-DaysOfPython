{
 "cells": [
  {
   "cell_type": "code",
   "execution_count": 25,
   "id": "be517884-1e5f-4bef-94a1-0fbf6c11d542",
   "metadata": {},
   "outputs": [
    {
     "data": {
      "text/plain": [
       "'Python is victory and Python is happiness'"
      ]
     },
     "execution_count": 25,
     "metadata": {},
     "output_type": "execute_result"
    }
   ],
   "source": [
    "import re\n",
    "def remove_html_tags(text):\n",
    "    pattern=re.compile('<.*?>')\n",
    "    return pattern.sub(r'',text)\n",
    "\n",
    "text=\"<p>Python is victory</p> and <html>Python is happiness</html>\"\n",
    "remove_html_tags(text)"
   ]
  },
  {
   "cell_type": "code",
   "execution_count": 29,
   "id": "149dd5af-c600-426b-86cc-439d8ab54a0a",
   "metadata": {},
   "outputs": [
    {
     "data": {
      "text/html": [
       "<div>\n",
       "<style scoped>\n",
       "    .dataframe tbody tr th:only-of-type {\n",
       "        vertical-align: middle;\n",
       "    }\n",
       "\n",
       "    .dataframe tbody tr th {\n",
       "        vertical-align: top;\n",
       "    }\n",
       "\n",
       "    .dataframe thead th {\n",
       "        text-align: right;\n",
       "    }\n",
       "</style>\n",
       "<table border=\"1\" class=\"dataframe\">\n",
       "  <thead>\n",
       "    <tr style=\"text-align: right;\">\n",
       "      <th></th>\n",
       "      <th>id</th>\n",
       "      <th>name</th>\n",
       "      <th>nationality</th>\n",
       "      <th>city</th>\n",
       "      <th>latitude</th>\n",
       "      <th>longitude</th>\n",
       "      <th>gender</th>\n",
       "      <th>ethnic.group</th>\n",
       "      <th>age</th>\n",
       "      <th>english.grade</th>\n",
       "      <th>math.grade</th>\n",
       "      <th>sciences.grade</th>\n",
       "      <th>language.grade</th>\n",
       "      <th>portfolio.rating</th>\n",
       "      <th>coverletter.rating</th>\n",
       "      <th>refletter.rating</th>\n",
       "    </tr>\n",
       "  </thead>\n",
       "  <tbody>\n",
       "    <tr>\n",
       "      <th>0</th>\n",
       "      <td>0</td>\n",
       "      <td>Kiana Lor</td>\n",
       "      <td>China</td>\n",
       "      <td>Suzhou</td>\n",
       "      <td>31.31</td>\n",
       "      <td>120.62</td>\n",
       "      <td>F</td>\n",
       "      <td>NaN</td>\n",
       "      <td>22</td>\n",
       "      <td>3.5</td>\n",
       "      <td>3.7</td>\n",
       "      <td>3.1</td>\n",
       "      <td>1.0</td>\n",
       "      <td>4</td>\n",
       "      <td>4.0</td>\n",
       "      <td>4</td>\n",
       "    </tr>\n",
       "    <tr>\n",
       "      <th>1</th>\n",
       "      <td>1</td>\n",
       "      <td>Joshua Lonaker</td>\n",
       "      <td>United States of America</td>\n",
       "      <td>Santa Clarita</td>\n",
       "      <td>34.39</td>\n",
       "      <td>-118.54</td>\n",
       "      <td>M</td>\n",
       "      <td>NaN</td>\n",
       "      <td>22</td>\n",
       "      <td>2.9</td>\n",
       "      <td>3.2</td>\n",
       "      <td>3.6</td>\n",
       "      <td>5.0</td>\n",
       "      <td>5</td>\n",
       "      <td>4.0</td>\n",
       "      <td>5</td>\n",
       "    </tr>\n",
       "    <tr>\n",
       "      <th>2</th>\n",
       "      <td>2</td>\n",
       "      <td>Dakota Blanco</td>\n",
       "      <td>United States of America</td>\n",
       "      <td>Oakland</td>\n",
       "      <td>37.80</td>\n",
       "      <td>-122.27</td>\n",
       "      <td>F</td>\n",
       "      <td>NaN</td>\n",
       "      <td>22</td>\n",
       "      <td>3.9</td>\n",
       "      <td>3.8</td>\n",
       "      <td>3.2</td>\n",
       "      <td>5.0</td>\n",
       "      <td>3</td>\n",
       "      <td>3.0</td>\n",
       "      <td>4</td>\n",
       "    </tr>\n",
       "    <tr>\n",
       "      <th>3</th>\n",
       "      <td>3</td>\n",
       "      <td>Natasha Yarusso</td>\n",
       "      <td>United States of America</td>\n",
       "      <td>Castro Valley</td>\n",
       "      <td>37.69</td>\n",
       "      <td>-122.09</td>\n",
       "      <td>F</td>\n",
       "      <td>NaN</td>\n",
       "      <td>20</td>\n",
       "      <td>3.3</td>\n",
       "      <td>2.8</td>\n",
       "      <td>3.2</td>\n",
       "      <td>5.0</td>\n",
       "      <td>5</td>\n",
       "      <td>2.0</td>\n",
       "      <td>4</td>\n",
       "    </tr>\n",
       "    <tr>\n",
       "      <th>4</th>\n",
       "      <td>4</td>\n",
       "      <td>Brooke Cazares</td>\n",
       "      <td>Brazil</td>\n",
       "      <td>São José dos Campos</td>\n",
       "      <td>-23.18</td>\n",
       "      <td>-45.88</td>\n",
       "      <td>F</td>\n",
       "      <td>NaN</td>\n",
       "      <td>21</td>\n",
       "      <td>3.7</td>\n",
       "      <td>2.6</td>\n",
       "      <td>3.4</td>\n",
       "      <td>1.0</td>\n",
       "      <td>4</td>\n",
       "      <td>4.0</td>\n",
       "      <td>5</td>\n",
       "    </tr>\n",
       "    <tr>\n",
       "      <th>...</th>\n",
       "      <td>...</td>\n",
       "      <td>...</td>\n",
       "      <td>...</td>\n",
       "      <td>...</td>\n",
       "      <td>...</td>\n",
       "      <td>...</td>\n",
       "      <td>...</td>\n",
       "      <td>...</td>\n",
       "      <td>...</td>\n",
       "      <td>...</td>\n",
       "      <td>...</td>\n",
       "      <td>...</td>\n",
       "      <td>...</td>\n",
       "      <td>...</td>\n",
       "      <td>...</td>\n",
       "      <td>...</td>\n",
       "    </tr>\n",
       "    <tr>\n",
       "      <th>302</th>\n",
       "      <td>302</td>\n",
       "      <td>Austin Haas</td>\n",
       "      <td>United States of America</td>\n",
       "      <td>Columbus</td>\n",
       "      <td>39.96</td>\n",
       "      <td>-83.00</td>\n",
       "      <td>M</td>\n",
       "      <td>NaN</td>\n",
       "      <td>20</td>\n",
       "      <td>3.6</td>\n",
       "      <td>3.7</td>\n",
       "      <td>3.1</td>\n",
       "      <td>5.0</td>\n",
       "      <td>4</td>\n",
       "      <td>5.0</td>\n",
       "      <td>5</td>\n",
       "    </tr>\n",
       "    <tr>\n",
       "      <th>303</th>\n",
       "      <td>303</td>\n",
       "      <td>Madison Fithian</td>\n",
       "      <td>United States of America</td>\n",
       "      <td>Los Angeles</td>\n",
       "      <td>34.05</td>\n",
       "      <td>-118.24</td>\n",
       "      <td>F</td>\n",
       "      <td>NaN</td>\n",
       "      <td>20</td>\n",
       "      <td>3.6</td>\n",
       "      <td>3.9</td>\n",
       "      <td>4.0</td>\n",
       "      <td>5.0</td>\n",
       "      <td>5</td>\n",
       "      <td>5.0</td>\n",
       "      <td>3</td>\n",
       "    </tr>\n",
       "    <tr>\n",
       "      <th>304</th>\n",
       "      <td>304</td>\n",
       "      <td>Zachary Mulvahill</td>\n",
       "      <td>United States of America</td>\n",
       "      <td>Los Angeles</td>\n",
       "      <td>34.05</td>\n",
       "      <td>-118.24</td>\n",
       "      <td>M</td>\n",
       "      <td>NaN</td>\n",
       "      <td>20</td>\n",
       "      <td>3.2</td>\n",
       "      <td>3.4</td>\n",
       "      <td>3.9</td>\n",
       "      <td>5.0</td>\n",
       "      <td>5</td>\n",
       "      <td>5.0</td>\n",
       "      <td>3</td>\n",
       "    </tr>\n",
       "    <tr>\n",
       "      <th>305</th>\n",
       "      <td>305</td>\n",
       "      <td>Eliana Michelsen</td>\n",
       "      <td>United States of America</td>\n",
       "      <td>Oakland</td>\n",
       "      <td>37.80</td>\n",
       "      <td>-122.27</td>\n",
       "      <td>F</td>\n",
       "      <td>NaN</td>\n",
       "      <td>23</td>\n",
       "      <td>3.0</td>\n",
       "      <td>2.8</td>\n",
       "      <td>2.9</td>\n",
       "      <td>5.0</td>\n",
       "      <td>4</td>\n",
       "      <td>4.0</td>\n",
       "      <td>5</td>\n",
       "    </tr>\n",
       "    <tr>\n",
       "      <th>306</th>\n",
       "      <td>306</td>\n",
       "      <td>Dane Whittemore</td>\n",
       "      <td>Canada</td>\n",
       "      <td>Toronto</td>\n",
       "      <td>43.67</td>\n",
       "      <td>-79.42</td>\n",
       "      <td>M</td>\n",
       "      <td>NaN</td>\n",
       "      <td>21</td>\n",
       "      <td>3.8</td>\n",
       "      <td>3.2</td>\n",
       "      <td>4.0</td>\n",
       "      <td>5.0</td>\n",
       "      <td>5</td>\n",
       "      <td>4.0</td>\n",
       "      <td>5</td>\n",
       "    </tr>\n",
       "  </tbody>\n",
       "</table>\n",
       "<p>307 rows × 16 columns</p>\n",
       "</div>"
      ],
      "text/plain": [
       "      id               name               nationality                 city  \\\n",
       "0      0          Kiana Lor                     China               Suzhou   \n",
       "1      1     Joshua Lonaker  United States of America        Santa Clarita   \n",
       "2      2      Dakota Blanco  United States of America              Oakland   \n",
       "3      3    Natasha Yarusso  United States of America        Castro Valley   \n",
       "4      4     Brooke Cazares                    Brazil  São José dos Campos   \n",
       "..   ...                ...                       ...                  ...   \n",
       "302  302        Austin Haas  United States of America             Columbus   \n",
       "303  303    Madison Fithian  United States of America          Los Angeles   \n",
       "304  304  Zachary Mulvahill  United States of America          Los Angeles   \n",
       "305  305   Eliana Michelsen  United States of America              Oakland   \n",
       "306  306    Dane Whittemore                    Canada              Toronto   \n",
       "\n",
       "     latitude  longitude gender  ethnic.group  age  english.grade  math.grade  \\\n",
       "0       31.31     120.62      F           NaN   22            3.5         3.7   \n",
       "1       34.39    -118.54      M           NaN   22            2.9         3.2   \n",
       "2       37.80    -122.27      F           NaN   22            3.9         3.8   \n",
       "3       37.69    -122.09      F           NaN   20            3.3         2.8   \n",
       "4      -23.18     -45.88      F           NaN   21            3.7         2.6   \n",
       "..        ...        ...    ...           ...  ...            ...         ...   \n",
       "302     39.96     -83.00      M           NaN   20            3.6         3.7   \n",
       "303     34.05    -118.24      F           NaN   20            3.6         3.9   \n",
       "304     34.05    -118.24      M           NaN   20            3.2         3.4   \n",
       "305     37.80    -122.27      F           NaN   23            3.0         2.8   \n",
       "306     43.67     -79.42      M           NaN   21            3.8         3.2   \n",
       "\n",
       "     sciences.grade  language.grade  portfolio.rating  coverletter.rating  \\\n",
       "0               3.1             1.0                 4                 4.0   \n",
       "1               3.6             5.0                 5                 4.0   \n",
       "2               3.2             5.0                 3                 3.0   \n",
       "3               3.2             5.0                 5                 2.0   \n",
       "4               3.4             1.0                 4                 4.0   \n",
       "..              ...             ...               ...                 ...   \n",
       "302             3.1             5.0                 4                 5.0   \n",
       "303             4.0             5.0                 5                 5.0   \n",
       "304             3.9             5.0                 5                 5.0   \n",
       "305             2.9             5.0                 4                 4.0   \n",
       "306             4.0             5.0                 5                 4.0   \n",
       "\n",
       "     refletter.rating  \n",
       "0                   4  \n",
       "1                   5  \n",
       "2                   4  \n",
       "3                   4  \n",
       "4                   5  \n",
       "..                ...  \n",
       "302                 5  \n",
       "303                 3  \n",
       "304                 3  \n",
       "305                 5  \n",
       "306                 5  \n",
       "\n",
       "[307 rows x 16 columns]"
      ]
     },
     "execution_count": 29,
     "metadata": {},
     "output_type": "execute_result"
    }
   ],
   "source": [
    "import pandas as pd\n",
    "import numpy as np\n",
    "df=pd.read_csv('student-dataset.csv')\n",
    "df"
   ]
  },
  {
   "cell_type": "code",
   "execution_count": 33,
   "id": "1ff4e5a8-94b4-441e-b3f9-114ce270fdda",
   "metadata": {},
   "outputs": [
    {
     "name": "stdout",
     "output_type": "stream",
     "text": [
      "                                 From: <Saved by Blink>  \\\n",
      "0     Snapshot-Content-Location: https://www.kaggle....   \n",
      "1                             Subject: student-data.csv   \n",
      "2                                             Date: Sun   \n",
      "3                                     MIME-Version: 1.0   \n",
      "4                      Content-Type: multipart/related;   \n",
      "...                                                 ...   \n",
      "1628                                                  }   \n",
      "1629                                                NaN   \n",
      "1630  .fZXYRD { display: flex; flex-direction: row; ...   \n",
      "1631                                                NaN   \n",
      "1632  .cCa-Dtz { white-space: nowrap; overflow: hidd...   \n",
      "\n",
      "                       Unnamed: 1 Unnamed: 2 Unnamed: 3 Unnamed: 4 Unnamed: 5  \\\n",
      "0                             NaN        NaN        NaN        NaN        NaN   \n",
      "1                             NaN        NaN        NaN        NaN        NaN   \n",
      "2      22 Sep 2024 13:07:00 +0530        NaN        NaN        NaN        NaN   \n",
      "3                             NaN        NaN        NaN        NaN        NaN   \n",
      "4                             NaN        NaN        NaN        NaN        NaN   \n",
      "...                           ...        ...        ...        ...        ...   \n",
      "1628                          NaN        NaN        NaN        NaN        NaN   \n",
      "1629                          NaN        NaN        NaN        NaN        NaN   \n",
      "1630                          NaN        NaN        NaN        NaN        NaN   \n",
      "1631                          NaN        NaN        NaN        NaN        NaN   \n",
      "1632                          NaN        NaN        NaN        NaN        NaN   \n",
      "\n",
      "     Unnamed: 6 Unnamed: 7 Unnamed: 8 Unnamed: 9  ... Unnamed: 82 Unnamed: 83  \\\n",
      "0           NaN        NaN        NaN        NaN  ...         NaN         NaN   \n",
      "1           NaN        NaN        NaN        NaN  ...         NaN         NaN   \n",
      "2           NaN        NaN        NaN        NaN  ...         NaN         NaN   \n",
      "3           NaN        NaN        NaN        NaN  ...         NaN         NaN   \n",
      "4           NaN        NaN        NaN        NaN  ...         NaN         NaN   \n",
      "...         ...        ...        ...        ...  ...         ...         ...   \n",
      "1628        NaN        NaN        NaN        NaN  ...         NaN         NaN   \n",
      "1629        NaN        NaN        NaN        NaN  ...         NaN         NaN   \n",
      "1630        NaN        NaN        NaN        NaN  ...         NaN         NaN   \n",
      "1631        NaN        NaN        NaN        NaN  ...         NaN         NaN   \n",
      "1632        NaN        NaN        NaN        NaN  ...         NaN         NaN   \n",
      "\n",
      "     Unnamed: 84 Unnamed: 85 Unnamed: 86 Unnamed: 87 Unnamed: 88 Unnamed: 89  \\\n",
      "0            NaN         NaN         NaN         NaN         NaN         NaN   \n",
      "1            NaN         NaN         NaN         NaN         NaN         NaN   \n",
      "2            NaN         NaN         NaN         NaN         NaN         NaN   \n",
      "3            NaN         NaN         NaN         NaN         NaN         NaN   \n",
      "4            NaN         NaN         NaN         NaN         NaN         NaN   \n",
      "...          ...         ...         ...         ...         ...         ...   \n",
      "1628         NaN         NaN         NaN         NaN         NaN         NaN   \n",
      "1629         NaN         NaN         NaN         NaN         NaN         NaN   \n",
      "1630         NaN         NaN         NaN         NaN         NaN         NaN   \n",
      "1631         NaN         NaN         NaN         NaN         NaN         NaN   \n",
      "1632         NaN         NaN         NaN         NaN         NaN         NaN   \n",
      "\n",
      "     Unnamed: 90 Unnamed: 91  \n",
      "0            NaN         NaN  \n",
      "1            NaN         NaN  \n",
      "2            NaN         NaN  \n",
      "3            NaN         NaN  \n",
      "4            NaN         NaN  \n",
      "...          ...         ...  \n",
      "1628         NaN         NaN  \n",
      "1629         NaN         NaN  \n",
      "1630         NaN         NaN  \n",
      "1631         NaN         NaN  \n",
      "1632         NaN         NaN  \n",
      "\n",
      "[1633 rows x 92 columns]\n"
     ]
    }
   ],
   "source": [
    "import pandas as pd\n",
    "\n",
    "# Load the Excel file\n",
    "file_path = r'D:\\100 Days of Python\\Book1.xlsx'\n",
    "df = pd.read_excel(file_path)\n",
    "\n",
    "# Display the data\n",
    "print(df)\n"
   ]
  },
  {
   "cell_type": "code",
   "execution_count": 35,
   "id": "5c2b9684-93a0-437a-bd7c-bd804f52f8e8",
   "metadata": {},
   "outputs": [
    {
     "name": "stdout",
     "output_type": "stream",
     "text": [
      "    sl no.                                             review Sentiments\n",
      "0        1  <h1>the  product was very nicely presented<h1>...        yes\n",
      "1        2  <!DOCTYPE html><html lang=\"en\"><head><meta htt...         no\n",
      "2        3                    <title>student-data.csv</title>        yes\n",
      "3        4    <meta name=\"description\" content=\"Kaggle is ...         no\n",
      "4        5    <link rel=\"preconnect\" href=\"https://www.goo...         no\n",
      "5        6  <link href=\"https://www.kaggle.com/static/imag...        yes\n",
      "6        7   <link rel=\"manifest\" href=\"https://www.kaggle...         no\n",
      "7        8  <h1>the  product was very nicely presented<h1>...        yes\n",
      "8        9   <link href=\"https://fonts.googleapis.com/css?...         no\n",
      "9       10    <link href=\"https://fonts.googleapis.com/css...        yes\n",
      "10      11  <link rel=\"stylesheet\" type=\"text/css\" href=\"h...         no\n",
      "11      12    <link rel=\"stylesheet\" type=\"text/css\" href=...        yes\n",
      "12      13  <link rel=\"stylesheet\" type=\"text/css\" href=\"h...        yes\n",
      "13      14             <body style=\"background-color: rgb(255        yes\n",
      "14      15  <iframe ng-non-bindable=\"\" frameborder=\"0\" hsp...        yes\n",
      "15      16  Content-Location: cid:css-e7ea452d-6bc8-43f0-b...         no\n",
      "16      17  <link rel=\"stylesheet\" type=\"text/css\" href=\"h...        yes\n",
      "17      18             <body style=\"background-color: rgb(255        yes\n",
      "18      19                                             <main>         no\n",
      "19      20  <div id=\"site-container\"><div class=\"\" style=\"...        yes\n"
     ]
    }
   ],
   "source": [
    "import pandas as pd\n",
    "\n",
    "# Path to your Excel file\n",
    "file_path = r'D:\\100 Days of Python\\product_sentiment.xlsx'\n",
    "\n",
    "# Load the Excel\n",
    "dp = pd.read_excel(file_path)\n",
    "\n",
    "# Display the data\n",
    "print(dp)"
   ]
  },
  {
   "cell_type": "code",
   "execution_count": 49,
   "id": "138b706a-feb6-4591-b2ff-8287f08198f4",
   "metadata": {},
   "outputs": [
    {
     "data": {
      "text/plain": [
       "0     the  product was very nicely presentedDaikin 0...\n",
       "1                                                      \n",
       "2                                      student-data.csv\n",
       "3                                                      \n",
       "4                                                      \n",
       "5                                                      \n",
       "6                                                      \n",
       "7     the  product was very nicely presentedDaikin 0...\n",
       "8      <link href=\"https://fonts.googleapis.com/css?...\n",
       "9                                                      \n",
       "10                                                     \n",
       "11                                                     \n",
       "12    <link id=\"load-css-0\" rel=\"stylesheet\" type=\"t...\n",
       "13               <body style=\"background-color: rgb(255\n",
       "14                                                     \n",
       "15    Content-Location: cid:css-e7ea452d-6bc8-43f0-b...\n",
       "16                                                     \n",
       "17               <body style=\"background-color: rgb(255\n",
       "18                                                     \n",
       "19    <div class=\"\" style=\"height: inherit; --mdc-th...\n",
       "Name: review, dtype: object"
      ]
     },
     "execution_count": 49,
     "metadata": {},
     "output_type": "execute_result"
    }
   ],
   "source": [
    "import re\n",
    "def remove_html_tags(text):\n",
    "    pattern=re.compile('<.*?>')\n",
    "    return pattern.sub(r'',text)\n",
    "dp['review'].apply(remove_html_tags)"
   ]
  },
  {
   "cell_type": "code",
   "execution_count": 51,
   "id": "8fa38eb5-8047-428e-a191-63758226ae1b",
   "metadata": {},
   "outputs": [
    {
     "name": "stdout",
     "output_type": "stream",
     "text": [
      "    sl no.                                             review Sentiments\n",
      "0        1  <h1>the  product was very nicely presented<h1>...        yes\n",
      "1        2  <!DOCTYPE html><html lang=\"en\"><head><meta htt...         no\n",
      "2        3                    <title>student-data.csv</title>        yes\n",
      "3        4    <meta name=\"description\"> content=\"Kaggle is...         no\n",
      "4        5  >  <link rel=\"preconnect\" >href=\"https://www.g...         no\n",
      "5        6  <link> href=\"https://www.kaggle.com/static/ima...        yes\n",
      "6        7   <link rel=\"manifest\" >href=\"https://www.kaggl...         no\n",
      "7        8  <h1>the  product was very nicely presented<h1>...        yes\n",
      "8        9   <link href=\"https://fonts.googleapis.com/css?...         no\n",
      "9       10    <link> href=\"https://fonts.googleapis.com/cs...        yes\n",
      "10      11  <link> rel=\"stylesheet\" type=\"text/css\" href=\"...         no\n",
      "11      12    link rel=\"stylesheet\" type=\"text/css\" href=\"...        yes\n",
      "12      13  <link rel=\"stylesheet\"> type=\"text/css\" href=\"...        yes\n",
      "13      14              body style=\"background-color: rgb(255        yes\n",
      "14      15  iframe ng-non-bindable=\"\" frameborder=\"0\" hspa...        yes\n",
      "15      16  Content-Location: cid:css-e7ea452d-6bc8-43f0-b...         no\n",
      "16      17  <link rel=\"stylesheet\"> type=\"text/css\" href=\"...        yes\n",
      "17      18              body style=\"background-color: rgb(255        yes\n",
      "18      19                                    <main>nishu<br>         no\n",
      "19      20  div id=\"site-container\"<div class=\"\" style=\"he...        yes\n"
     ]
    }
   ],
   "source": [
    "import pandas as pd\n",
    "\n",
    "# Path to your Excel file\n",
    "file_path = r'D:\\100 Days of Python\\product_sentiment2.xlsx'\n",
    "\n",
    "# Load the Excel\n",
    "dp = pd.read_excel(file_path)\n",
    "\n",
    "# Display the data\n",
    "print(dp)"
   ]
  },
  {
   "cell_type": "code",
   "execution_count": 53,
   "id": "a53d4085-264e-423c-a08c-2aaf566614d1",
   "metadata": {},
   "outputs": [
    {
     "data": {
      "text/plain": [
       "0     the  product was very nicely presentedDaikin 0...\n",
       "1     link rel=\"stylesheet\" type=\"text/css\" href=\"ci...\n",
       "2                                      student-data.csv\n",
       "3        content=\"Kaggle is the worldâ€™s largest da...\n",
       "4     >  href=\"https://www.google-analytics.com/\" cr...\n",
       "5      href=\"https://www.kaggle.com/static/images/fa...\n",
       "6      href=\"https://www.kaggle.com/static/json/mani...\n",
       "7     the  product was very nicely presentedDaikin 0...\n",
       "8                                      family=Inter:400\n",
       "9        href=\"https://fonts.googleapis.com/css2?fam...\n",
       "10     rel=\"stylesheet\" type=\"text/css\" href=\"https:...\n",
       "11      link rel=\"stylesheet\" type=\"text/css\" href=\"...\n",
       "12     type=\"text/css\" href=\"https://www.kaggle.com/...\n",
       "13                body style=\"background-color: rgb(255\n",
       "14    iframe ng-non-bindable=\"\" frameborder=\"0\" hspa...\n",
       "15    Content-Location: cid:css-e7ea452d-6bc8-43f0-b...\n",
       "16     type=\"text/css\" href=\"https://www.kaggle.com/...\n",
       "17                body style=\"background-color: rgb(255\n",
       "18                                                nishu\n",
       "19    div id=\"site-container\" inherit; --mdc-theme-o...\n",
       "Name: review, dtype: object"
      ]
     },
     "execution_count": 53,
     "metadata": {},
     "output_type": "execute_result"
    }
   ],
   "source": [
    "import re\n",
    "def remove_html_tags(text):\n",
    "    pattern=re.compile('<.*?>')\n",
    "    return pattern.sub(r'',text)\n",
    "dp['review'].apply(remove_html_tags)"
   ]
  },
  {
   "cell_type": "code",
   "execution_count": 59,
   "id": "4d222297-c100-4a13-ba66-26a7b64583ad",
   "metadata": {},
   "outputs": [
    {
     "data": {
      "text/plain": [
       "'the  product was very nicely presentedDaikin 0.8 Ton 3 Star, Fixed Speed Split AC (Copper, PM 2.5 Filter, 2022 Model, FTL28U, White'"
      ]
     },
     "execution_count": 59,
     "metadata": {},
     "output_type": "execute_result"
    }
   ],
   "source": [
    "dp['review']=dp['review'].apply(remove_html_tags)\n",
    "dp['review'][0]"
   ]
  },
  {
   "cell_type": "code",
   "execution_count": 63,
   "id": "e81c5ec7-b59a-461a-972e-09ee878b9b0a",
   "metadata": {},
   "outputs": [
    {
     "data": {
      "text/plain": [
       "'check out my notebook '"
      ]
     },
     "execution_count": 63,
     "metadata": {},
     "output_type": "execute_result"
    }
   ],
   "source": [
    "text1='check out my notebook https://www.nishu.com/phiscwallah/notebook67678ahhv'\n",
    "text2='check out my notebook http://www.nishu.com/phiscwallah/notebook67678ahhv'\n",
    "text3='google search here www.google.com'\n",
    "text4='for notebook click https://www.nishu.com/phiscwallah/notebook67678ahhv nishukumarjgytf98756i.com'\n",
    "def remove_url(text):\n",
    "    pattern=re.compile(r'https?://\\S+|www\\.\\S+')\n",
    "    return pattern.sub(r'',text)\n",
    "remove_url(text1)"
   ]
  },
  {
   "cell_type": "markdown",
   "id": "8e9db797-b20a-441e-939d-9f4eef6de9e1",
   "metadata": {},
   "source": [
    "REMOVING PUNCTUATION MARK"
   ]
  },
  {
   "cell_type": "code",
   "execution_count": 65,
   "id": "bcf1e8b0-4879-4e2f-af05-2abfac173399",
   "metadata": {},
   "outputs": [
    {
     "data": {
      "text/plain": [
       "'!\"#$%&\\'()*+,-./:;<=>?@[\\\\]^_`{|}~'"
      ]
     },
     "execution_count": 65,
     "metadata": {},
     "output_type": "execute_result"
    }
   ],
   "source": [
    "import string,time\n",
    "string.punctuation"
   ]
  },
  {
   "cell_type": "code",
   "execution_count": 75,
   "id": "1d48254d-dc72-4bd6-9d50-02e127ba951f",
   "metadata": {},
   "outputs": [
    {
     "data": {
      "text/plain": [
       "'String with 5 punctuation'"
      ]
     },
     "execution_count": 75,
     "metadata": {},
     "output_type": "execute_result"
    }
   ],
   "source": [
    "exclude=string.punctuation\n",
    "def remove_punc(text):\n",
    "    for char in exclude:\n",
    "        text=text.replace(char,'')\n",
    "    return text\n",
    "text=\"String with &5* punctuation?\"\n",
    "remove_punc(text)"
   ]
  },
  {
   "cell_type": "code",
   "execution_count": 83,
   "id": "b2510ea9-51e9-4c65-9b3d-015b44145a4e",
   "metadata": {},
   "outputs": [
    {
     "name": "stdout",
     "output_type": "stream",
     "text": [
      "String with 5 punctuation\n",
      "0.0\n"
     ]
    }
   ],
   "source": [
    "start=time.time()\n",
    "print(remove_punc(text))\n",
    "time1=time.time()-start\n",
    "print(time1)"
   ]
  },
  {
   "cell_type": "code",
   "execution_count": 87,
   "id": "db28e47d-d9db-42d7-8657-a52498340ddd",
   "metadata": {},
   "outputs": [
    {
     "data": {
      "text/plain": [
       "'check out my notebook httpwwwnishucomphiscwallahnotebook67678ahhv'"
      ]
     },
     "execution_count": 87,
     "metadata": {},
     "output_type": "execute_result"
    }
   ],
   "source": [
    "def remove_punc1(text):\n",
    "    return text.translate(str.maketrans('','',exclude))\n",
    "remove_punc1(text2)"
   ]
  },
  {
   "cell_type": "code",
   "execution_count": 97,
   "id": "659e11d9-d55d-41fd-8b69-4e050906f532",
   "metadata": {},
   "outputs": [
    {
     "name": "stdout",
     "output_type": "stream",
     "text": [
      "0.0\n"
     ]
    }
   ],
   "source": [
    "start=time.time()\n",
    "remove_punc1(text)\n",
    "time2=time.time()-start\n",
    "print(time2)"
   ]
  },
  {
   "cell_type": "code",
   "execution_count": 99,
   "id": "e976aead-7f8b-4e9d-8d48-9bf9351f01d7",
   "metadata": {},
   "outputs": [
    {
     "data": {
      "text/plain": [
       "0     the  product was very nicely presentedDaikin 0...\n",
       "1     link relstylesheet typetextcss hrefcidcsse7ea4...\n",
       "2                                        studentdatacsv\n",
       "3        contentKaggle is the worldâ€™s largest data...\n",
       "4       hrefhttpswwwgoogleanalyticscom crossoriginan...\n",
       "5      hrefhttpswwwkagglecomstaticimagesfaviconico r...\n",
       "6      hrefhttpswwwkagglecomstaticjsonmanifestjson c...\n",
       "7     the  product was very nicely presentedDaikin 0...\n",
       "8                                        familyInter400\n",
       "9        hrefhttpsfontsgoogleapiscomcss2familyGoogle...\n",
       "10     relstylesheet typetextcss hrefhttpswwwkagglec...\n",
       "11      link relstylesheet typetextcss hrefhttpswwwk...\n",
       "12     typetextcss hrefhttpswwwkagglecomstaticassets...\n",
       "13                     body stylebackgroundcolor rgb255\n",
       "14    iframe ngnonbindable frameborder0 hspace0 marg...\n",
       "15    ContentLocation cidcsse7ea452d6bc843f0becfb21b...\n",
       "16     typetextcss hrefhttpswwwkagglecomstaticassets...\n",
       "17                     body stylebackgroundcolor rgb255\n",
       "18                                                nishu\n",
       "19    div idsitecontainer inherit mdcthemeonprimary ...\n",
       "Name: review, dtype: object"
      ]
     },
     "execution_count": 99,
     "metadata": {},
     "output_type": "execute_result"
    }
   ],
   "source": [
    "dp['review'].apply(remove_punc)"
   ]
  },
  {
   "cell_type": "markdown",
   "id": "4c58642e-aee2-4ce0-8bea-09d9c262792f",
   "metadata": {},
   "source": [
    "CHAT WORD TREATMENT"
   ]
  },
  {
   "cell_type": "code",
   "execution_count": 147,
   "id": "c36b2db1-5ede-41d8-a089-4659beb52a5f",
   "metadata": {},
   "outputs": [],
   "source": [
    "chat_words={'AFK':'Away From Keyboard'\n",
    ",'ASAP':'As Soon As Possible'\n",
    ",'ATK':'At The Keyboard'\n",
    ",'ATM':'At The Moment'\n",
    ",'A3':'Anytime, Anywhere Anyplace'\n",
    ",'BAK':'Back At Keyboard'\n",
    ",'BBL':'Be Back Later'\n",
    ",'BBS':'Be Back Soon'\n",
    ",'BFN':'Bye For Now'\n",
    ",'B4N':'Bye For Now'\n",
    "}"
   ]
  },
  {
   "cell_type": "code",
   "execution_count": 159,
   "id": "1f78cf73-c7be-453e-b278-c39020a4e9ce",
   "metadata": {},
   "outputs": [
    {
     "data": {
      "text/plain": [
       "'come As Soon As Possible'"
      ]
     },
     "execution_count": 159,
     "metadata": {},
     "output_type": "execute_result"
    }
   ],
   "source": [
    "def chat_conversion(text):\n",
    "    new_text=[]\n",
    "    for w in text.split():\n",
    "        if w.upper() in chat_words:\n",
    "            new_text.append(chat_words[w.upper()])\n",
    "        else:\n",
    "            new_text.append(w)\n",
    "    return  \" \".join(new_text)\n",
    "chat_conversion(\"come ASAP\")"
   ]
  },
  {
   "cell_type": "code",
   "execution_count": 155,
   "id": "2ee96708-bdcf-46d7-8cad-26acce81353c",
   "metadata": {},
   "outputs": [
    {
     "data": {
      "text/plain": [
       "['nishu', 'kumari']"
      ]
     },
     "execution_count": 155,
     "metadata": {},
     "output_type": "execute_result"
    }
   ],
   "source": [
    "txt=\"nishu kumari\"\n",
    "txt.split()"
   ]
  },
  {
   "cell_type": "code",
   "execution_count": 161,
   "id": "24dc0f46-318a-4a20-ab44-883964b435bd",
   "metadata": {},
   "outputs": [
    {
     "data": {
      "text/plain": [
       "'COME As Soon As Possible'"
      ]
     },
     "execution_count": 161,
     "metadata": {},
     "output_type": "execute_result"
    }
   ],
   "source": [
    "chat_conversion(\"COME ASAP\")"
   ]
  },
  {
   "cell_type": "markdown",
   "id": "373f434a-aaa3-4b7a-8783-6b88d75d6d57",
   "metadata": {},
   "source": [
    "SPELLING CORRECTION"
   ]
  },
  {
   "cell_type": "code",
   "execution_count": 173,
   "id": "f1d63c4a-269a-4cdf-9071-3328c96d73f2",
   "metadata": {},
   "outputs": [
    {
     "ename": "ModuleNotFoundError",
     "evalue": "No module named 'textblob'",
     "output_type": "error",
     "traceback": [
      "\u001b[1;31m---------------------------------------------------------------------------\u001b[0m",
      "\u001b[1;31mModuleNotFoundError\u001b[0m                       Traceback (most recent call last)",
      "Cell \u001b[1;32mIn[173], line 1\u001b[0m\n\u001b[1;32m----> 1\u001b[0m \u001b[38;5;28;01mfrom\u001b[39;00m \u001b[38;5;21;01mtextblob\u001b[39;00m \u001b[38;5;28;01mimport\u001b[39;00m TextBlob\n",
      "\u001b[1;31mModuleNotFoundError\u001b[0m: No module named 'textblob'"
     ]
    }
   ],
   "source": [
    "from textblob import TextBlob"
   ]
  },
  {
   "cell_type": "code",
   "execution_count": 169,
   "id": "1541dcb7-532d-4f3e-88c6-ad6cfe700605",
   "metadata": {},
   "outputs": [
    {
     "ename": "ModuleNotFoundError",
     "evalue": "No module named 'textblob'",
     "output_type": "error",
     "traceback": [
      "\u001b[1;31m---------------------------------------------------------------------------\u001b[0m",
      "\u001b[1;31mModuleNotFoundError\u001b[0m                       Traceback (most recent call last)",
      "Cell \u001b[1;32mIn[169], line 1\u001b[0m\n\u001b[1;32m----> 1\u001b[0m \u001b[38;5;28;01mfrom\u001b[39;00m \u001b[38;5;21;01mtextblob\u001b[39;00m \u001b[38;5;28;01mimport\u001b[39;00m TextBlob\n\u001b[0;32m      2\u001b[0m incorrect_sen\u001b[38;5;241m=\u001b[39m\u001b[38;5;124m\"\u001b[39m\u001b[38;5;124mcoffe is veeryy niceee in tast\u001b[39m\u001b[38;5;124m\"\u001b[39m\n\u001b[0;32m      3\u001b[0m testblb\u001b[38;5;241m=\u001b[39mTextBlob(incorrect_sen)\n",
      "\u001b[1;31mModuleNotFoundError\u001b[0m: No module named 'textblob'"
     ]
    }
   ],
   "source": [
    "from textblob import TextBlob\n",
    "incorrect_sen=\"coffe is veeryy niceee in tast\"\n",
    "testblb=TextBlob(incorrect_sen)\n",
    "#testblb.correct().string"
   ]
  },
  {
   "cell_type": "code",
   "execution_count": null,
   "id": "a2558a2e-464d-479a-af16-7782a61368a5",
   "metadata": {},
   "outputs": [],
   "source": []
  }
 ],
 "metadata": {
  "kernelspec": {
   "display_name": "Python 3 (ipykernel)",
   "language": "python",
   "name": "python3"
  },
  "language_info": {
   "codemirror_mode": {
    "name": "ipython",
    "version": 3
   },
   "file_extension": ".py",
   "mimetype": "text/x-python",
   "name": "python",
   "nbconvert_exporter": "python",
   "pygments_lexer": "ipython3",
   "version": "3.12.4"
  }
 },
 "nbformat": 4,
 "nbformat_minor": 5
}
