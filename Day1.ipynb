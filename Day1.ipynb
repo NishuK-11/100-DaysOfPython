{
 "cells": [
  {
   "cell_type": "code",
   "execution_count": null,
   "id": "c1501157-d160-437d-b37b-25eaeef9ca4a",
   "metadata": {},
   "outputs": [],
   "source": [
    "def fact(n):\n",
    "    if n == 1 or n == 0:\n",
    "        return 1\n",
    "    else:\n",
    "        return n * fact(n - 1)\n",
    "n=int(input(\"enter a number\"))\n",
    "sum=0\n",
    "for i in range(1,n+1):\n",
    "      sum=sum+i/fact(i);\n",
    "print(sum)"
   ]
  },
  {
   "cell_type": "code",
   "execution_count": null,
   "id": "d1041bfc-2b00-48b2-b5a8-d5cfb9a98d24",
   "metadata": {},
   "outputs": [],
   "source": [
    "n=int(input(\"Enter a number\"))\n",
    "result=0\n",
    "fact=1;\n",
    "for i in range(1,n+1):\n",
    "    fact=fact*i\n",
    "    result=result+i/fact\n",
    "print(result)"
   ]
  },
  {
   "cell_type": "code",
   "execution_count": null,
   "id": "06989ec2-4fbb-4131-9be9-4cedfea43135",
   "metadata": {},
   "outputs": [],
   "source": [
    "s='hello'\n",
    "h=\"how\"\n",
    "i='''are'''\n",
    "j=\"\"\"you\"\"\"\n",
    "print(s)\n",
    "print(h)\n",
    "print(i)\n",
    "print(j)"
   ]
  },
  {
   "cell_type": "code",
   "execution_count": null,
   "id": "a5454758-abb9-405d-9639-385f922e49a3",
   "metadata": {},
   "outputs": [],
   "source": [
    "s=\"'it's raining\"\n",
    "print(s)\n",
    "#multiline string\n",
    "S=\"\"\"hello\"\"\"\n",
    "print(S)"
   ]
  },
  {
   "cell_type": "code",
   "execution_count": null,
   "id": "17af8daa-c140-429d-9e14-22da0e3220f2",
   "metadata": {
    "scrolled": true
   },
   "outputs": [],
   "source": [
    "n=\"nishu kumari\"\n",
    "print(n[2])\n",
    "print(n[-1])\n",
    "print(n[0:5])\n",
    "print(n[2:3])\n",
    "print(n[0:])\n",
    "print(n[:3])\n",
    "print(n[:])\n",
    "print(n[0:6:2])\n",
    "print(n[6:0:-2])\n",
    "print(n[11:5:-1])\n",
    "print(n[-6::1])"
   ]
  },
  {
   "cell_type": "markdown",
   "id": "9976def8-f126-4d00-9240-17e727851765",
   "metadata": {},
   "source": [
    "s=\"hello world\"\n",
    "s[0]='H'\n",
    "#Python strings are immutable-\n",
    "-->cant edit a string   'str' object does not support item assignment"
   ]
  },
  {
   "cell_type": "markdown",
   "id": "45752e7f-2b07-4371-8784-f2d37c493436",
   "metadata": {},
   "source": [
    "s=\"nishu\"\n",
    "del s\n",
    "print(s)"
   ]
  },
  {
   "cell_type": "code",
   "execution_count": null,
   "id": "3a4d5e49-1251-4cec-a9b8-b7f33bf83aae",
   "metadata": {},
   "outputs": [],
   "source": [
    "print(\"go\"+\" \" +\"now\")\n",
    "print(\"*\"*20)\n",
    "\"delhi\"==\"mumbai\" \n",
    "\"delhi\">\"mumbai\" "
   ]
  },
  {
   "cell_type": "code",
   "execution_count": null,
   "id": "b02cf63f-3fc2-458b-8b97-77d6566d2943",
   "metadata": {},
   "outputs": [],
   "source": [
    "\"\" or \"world\"\n",
    "#\"\" and \"world\""
   ]
  },
  {
   "cell_type": "code",
   "execution_count": 120,
   "id": "45d2ef00-f1f5-47ce-b4b3-7d227ca47bd3",
   "metadata": {},
   "outputs": [
    {
     "data": {
      "text/plain": [
       "''"
      ]
     },
     "execution_count": 120,
     "metadata": {},
     "output_type": "execute_result"
    }
   ],
   "source": [
    "\"\" and \"world\""
   ]
  },
  {
   "cell_type": "code",
   "execution_count": 122,
   "id": "60e3ecb5-7244-4817-b4b5-4a2d0e1eae94",
   "metadata": {},
   "outputs": [
    {
     "data": {
      "text/plain": [
       "'world'"
      ]
     },
     "execution_count": 122,
     "metadata": {},
     "output_type": "execute_result"
    }
   ],
   "source": [
    "\"hello\" and \"world\""
   ]
  },
  {
   "cell_type": "code",
   "execution_count": 124,
   "id": "e245bb51-8193-44e1-8c12-6d67c3e3b4c5",
   "metadata": {},
   "outputs": [
    {
     "data": {
      "text/plain": [
       "'hello'"
      ]
     },
     "execution_count": 124,
     "metadata": {},
     "output_type": "execute_result"
    }
   ],
   "source": [
    "\"hello\" or \"world\""
   ]
  },
  {
   "cell_type": "code",
   "execution_count": 126,
   "id": "53ccdb4b-9a97-4b1e-b754-f724809f338f",
   "metadata": {},
   "outputs": [
    {
     "data": {
      "text/plain": [
       "False"
      ]
     },
     "execution_count": 126,
     "metadata": {},
     "output_type": "execute_result"
    }
   ],
   "source": [
    "not \"hello\""
   ]
  },
  {
   "cell_type": "code",
   "execution_count": null,
   "id": "c36b214d-fffa-4533-99f1-f42f2c60cb63",
   "metadata": {},
   "outputs": [],
   "source": [
    "for i in 'nishu':\n",
    "    print (i)"
   ]
  },
  {
   "cell_type": "code",
   "execution_count": null,
   "id": "abc1af58-f92c-4008-a144-3f448324a044",
   "metadata": {},
   "outputs": [],
   "source": [
    "for i in 'delhi':\n",
    "    print ('pune')"
   ]
  },
  {
   "cell_type": "code",
   "execution_count": null,
   "id": "fadfe4bd-af6d-40cd-8ca9-a4e03d28ab5b",
   "metadata": {},
   "outputs": [],
   "source": [
    "'D' in \"Delhi\""
   ]
  },
  {
   "cell_type": "code",
   "execution_count": null,
   "id": "96c47ef9-3282-4120-a75e-e3821b9a6b11",
   "metadata": {},
   "outputs": [],
   "source": [
    "len(\"n k\")"
   ]
  },
  {
   "cell_type": "code",
   "execution_count": null,
   "id": "8fbc996e-b535-47cf-97af-a97f98cfa352",
   "metadata": {},
   "outputs": [],
   "source": [
    "a=max('nishu k')\n",
    "print(a)"
   ]
  },
  {
   "cell_type": "code",
   "execution_count": 7,
   "id": "15c58b62-2597-49de-95c5-f37180338556",
   "metadata": {},
   "outputs": [
    {
     "name": "stdin",
     "output_type": "stream",
     "text": [
      "enter your email nishu@123\n"
     ]
    },
    {
     "name": "stdout",
     "output_type": "stream",
     "text": [
      "nishu\n"
     ]
    }
   ],
   "source": [
    "s=input(\"enter your email\")\n",
    "x=s.split('@')\n",
    "print(x[0])"
   ]
  },
  {
   "cell_type": "markdown",
   "id": "036e90ca-20cf-4bca-9aa9-8033f2809fdb",
   "metadata": {},
   "source": [
    "program to extract username from email"
   ]
  },
  {
   "cell_type": "code",
   "execution_count": 9,
   "id": "90135530-e3b9-48c5-aac9-003eeecb8388",
   "metadata": {},
   "outputs": [
    {
     "name": "stdin",
     "output_type": "stream",
     "text": [
      "enter e-mail nishu123@gmail.com\n"
     ]
    },
    {
     "name": "stdout",
     "output_type": "stream",
     "text": [
      "nishu123\n"
     ]
    }
   ],
   "source": [
    "s=input(\"enter e-mail\")\n",
    "pos=s.index(\"@\")\n",
    "print(s[0:pos])"
   ]
  },
  {
   "cell_type": "code",
   "execution_count": 11,
   "id": "b92d0636-d408-4d59-a4dd-b3d1594667fc",
   "metadata": {},
   "outputs": [
    {
     "name": "stdin",
     "output_type": "stream",
     "text": [
      "enter a  sentence my name is nishu kumari\n",
      "enter character to be searched i\n"
     ]
    },
    {
     "name": "stdout",
     "output_type": "stream",
     "text": [
      "3\n"
     ]
    }
   ],
   "source": [
    "s=input(\"enter a  sentence\")\n",
    "c=input(\"enter character to be searched\")\n",
    "sum=0\n",
    "for i in s:\n",
    "    if i==c:\n",
    "        sum=sum+1\n",
    "print(sum)"
   ]
  },
  {
   "cell_type": "code",
   "execution_count": null,
   "id": "8d6f2518-3495-40f2-8aad-9c01b725304a",
   "metadata": {},
   "outputs": [],
   "source": [
    "#to remove particular character from a string\n"
   ]
  }
 ],
 "metadata": {
  "kernelspec": {
   "display_name": "Python 3 (ipykernel)",
   "language": "python",
   "name": "python3"
  },
  "language_info": {
   "codemirror_mode": {
    "name": "ipython",
    "version": 3
   },
   "file_extension": ".py",
   "mimetype": "text/x-python",
   "name": "python",
   "nbconvert_exporter": "python",
   "pygments_lexer": "ipython3",
   "version": "3.12.4"
  }
 },
 "nbformat": 4,
 "nbformat_minor": 5
}
