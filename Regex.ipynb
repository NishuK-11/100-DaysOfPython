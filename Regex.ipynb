{
 "cells": [
  {
   "cell_type": "markdown",
   "id": "e57d4801-217b-414b-b020-91cc059d9428",
   "metadata": {},
   "source": [
    "Regex is a set of special character that uses search pattern to find string or set of strings.It can detect presence or absence of a text by mayching it with particular pattern and also slipt pattern in one or more pattern . Re module to offer a search."
   ]
  },
  {
   "cell_type": "code",
   "execution_count": 1,
   "id": "e29c20e1-605b-4ba5-a7bb-2da5f472a4ae",
   "metadata": {},
   "outputs": [],
   "source": [
    "import re"
   ]
  },
  {
   "cell_type": "code",
   "execution_count": 15,
   "id": "a433b42b-6ad6-4d5f-b97d-c8f63ab0f09b",
   "metadata": {},
   "outputs": [
    {
     "name": "stdout",
     "output_type": "stream",
     "text": [
      "<re.Match object; span=(15, 21), match='python'>\n",
      "<class 're.Match'>\n",
      "found: python\n"
     ]
    }
   ],
   "source": [
    "pattern=\"python\"\n",
    "data=\"One must learn python to overcome fear of placement\"\n",
    "match=re.search(pattern,data)\n",
    "print(match)\n",
    "print(type(match))\n",
    "if match:\n",
    "    print(\"found:\",match.group())\n",
    "else:\n",
    "    print(\"not found\")"
   ]
  },
  {
   "cell_type": "markdown",
   "id": "797eaecf-59d1-46c8-9fd7-4b2f5892849b",
   "metadata": {},
   "source": [
    "To ignore case"
   ]
  },
  {
   "cell_type": "code",
   "execution_count": 25,
   "id": "73dd8430-ff57-4c39-bc92-e31665ea33ef",
   "metadata": {},
   "outputs": [
    {
     "name": "stdout",
     "output_type": "stream",
     "text": [
      "<re.Match object; span=(7, 13), match='Python'>\n"
     ]
    }
   ],
   "source": [
    "pattern=r\"pYthon\"\n",
    "data=\"I love Python\"\n",
    "check=re.search(pattern,data,re.IGNORECASE)\n",
    "print(check)"
   ]
  },
  {
   "cell_type": "code",
   "execution_count": 27,
   "id": "d5dcf8a6-6e94-4091-b797-99577582d9af",
   "metadata": {},
   "outputs": [
    {
     "name": "stdout",
     "output_type": "stream",
     "text": [
      "<re.Match object; span=(0, 1), match='I'>\n"
     ]
    }
   ],
   "source": [
    "pattern=r\"i\"\n",
    "check=re.match(pattern,data,re.IGNORECASE)\n",
    "print(check)"
   ]
  },
  {
   "cell_type": "code",
   "execution_count": 47,
   "id": "111f2ae7-3bd0-45d7-b8f9-e7e878d5b491",
   "metadata": {},
   "outputs": [
    {
     "name": "stdout",
     "output_type": "stream",
     "text": [
      "None\n",
      "<class 'NoneType'>\n",
      "found: python\n"
     ]
    }
   ],
   "source": [
    "sentence=\"Hii how are you ,are you doing python?\"\n",
    "pattern=re.compile(r\"python\",re.IGNORECASE)\n",
    "check=re.match(pattern,sentence)\n",
    "print(check)\n",
    "print(type(check))\n",
    "if match:\n",
    "    print(\"found:\",match.group())\n",
    "else:\n",
    "    print(\"not found\")"
   ]
  },
  {
   "cell_type": "code",
   "execution_count": 57,
   "id": "64cc4ef1-fd2b-466c-906d-4f8ada45623a",
   "metadata": {},
   "outputs": [
    {
     "name": "stdout",
     "output_type": "stream",
     "text": [
      "Python\n",
      "python\n"
     ]
    }
   ],
   "source": [
    "pattern=\"python\"\n",
    "data=\"Start Python before python bites you\"\n",
    "c=re.finditer(pattern,data,re.IGNORECASE)\n",
    "for match in c:\n",
    "    print (match.group())"
   ]
  },
  {
   "cell_type": "code",
   "execution_count": 63,
   "id": "66c5eadd-9809-4a76-8ef1-ee5befbbdf19",
   "metadata": {},
   "outputs": [
    {
     "name": "stdout",
     "output_type": "stream",
     "text": [
      "6\n",
      "20\n"
     ]
    }
   ],
   "source": [
    "pattern=\"python\"\n",
    "data=\"Start Python before python bites you\"\n",
    "c=re.finditer(pattern,data,re.IGNORECASE)\n",
    "for match in c:\n",
    "    print (match.start())"
   ]
  },
  {
   "cell_type": "code",
   "execution_count": 69,
   "id": "0234c21e-ed51-438a-a285-7df61bb6546b",
   "metadata": {},
   "outputs": [
    {
     "name": "stdout",
     "output_type": "stream",
     "text": [
      "Python\n",
      "python\n"
     ]
    }
   ],
   "source": [
    "pattern=re.compile(\"python\",re.IGNORECASE)\n",
    "data=\"Start Python before python bites you\"\n",
    "c=re.finditer(pattern,data)\n",
    "for match in c:\n",
    "    print (match.group())\n",
    "for match in c:\n",
    "    print (match.end())"
   ]
  },
  {
   "cell_type": "code",
   "execution_count": 77,
   "id": "42a70110-c4f6-4601-92e1-eb679f456bce",
   "metadata": {},
   "outputs": [
    {
     "name": "stdout",
     "output_type": "stream",
     "text": [
      "Python\n",
      "python\n",
      "2\n"
     ]
    }
   ],
   "source": [
    "pattern=re.compile(\"python\",re.IGNORECASE)\n",
    "data=\"Start Python before python bites you\"\n",
    "c=re.finditer(pattern,data)\n",
    "count=0\n",
    "for match in c:\n",
    "    count+=1\n",
    "    print (match.group())\n",
    "print(count)"
   ]
  },
  {
   "cell_type": "code",
   "execution_count": 79,
   "id": "354517d3-f4b9-4d23-96fc-36e0b21189ee",
   "metadata": {},
   "outputs": [
    {
     "name": "stdout",
     "output_type": "stream",
     "text": [
      "['Python', 'python']\n"
     ]
    }
   ],
   "source": [
    "pattern=re.compile(\"python\",re.IGNORECASE)\n",
    "data=\"Start Python before python bites you\"\n",
    "c=re.findall(pattern,data)\n",
    "print(c)"
   ]
  },
  {
   "cell_type": "code",
   "execution_count": 81,
   "id": "929659b6-0adb-4e66-b7c1-0b9cec24cd46",
   "metadata": {},
   "outputs": [
    {
     "name": "stdout",
     "output_type": "stream",
     "text": [
      "['Python', 'python', 'you']\n"
     ]
    }
   ],
   "source": [
    "pattern=re.compile(\"python|You\",re.IGNORECASE)\n",
    "data=\"Start Python before python bites you\"\n",
    "c=re.findall(pattern,data)\n",
    "print(c)"
   ]
  },
  {
   "cell_type": "code",
   "execution_count": 103,
   "id": "a81d68ce-99c5-41a8-8666-65ae08b5749d",
   "metadata": {},
   "outputs": [
    {
     "name": "stdout",
     "output_type": "stream",
     "text": [
      "<re.Match object; span=(32, 33), match='1'>\n",
      "<re.Match object; span=(33, 34), match='0'>\n",
      "<re.Match object; span=(34, 35), match='0'>\n",
      "<re.Match object; span=(35, 36), match='5'>\n",
      "<re.Match object; span=(36, 37), match='0'>\n",
      "<re.Match object; span=(37, 38), match='0'>\n"
     ]
    }
   ],
   "source": [
    "pattern=r'[0-9]'\n",
    "data=\"I am very today as i am earning 100500 crores everyday\"\n",
    "d=re.finditer(pattern,data)\n",
    "for match in d:\n",
    "    print(match)"
   ]
  },
  {
   "cell_type": "code",
   "execution_count": 97,
   "id": "f4db4261-99a6-42df-8ded-3c33f521e0af",
   "metadata": {},
   "outputs": [
    {
     "name": "stdout",
     "output_type": "stream",
     "text": [
      "found digit\n"
     ]
    }
   ],
   "source": [
    "pattern=r'[0-9]'\n",
    "data=\"I am very today as i am earning 100500 crores everyday\"\n",
    "d=re.findall(pattern,data)\n",
    "if(d):\n",
    "    print (\"found digit\")\n",
    "else:\n",
    "    print(\"not found\")"
   ]
  },
  {
   "cell_type": "code",
   "execution_count": 101,
   "id": "7fdc3703-c106-4136-abe8-46459c404643",
   "metadata": {},
   "outputs": [
    {
     "name": "stdout",
     "output_type": "stream",
     "text": [
      "['1', '0', '0', '5', '0', '0']\n"
     ]
    }
   ],
   "source": [
    "pattern=r'\\d'\n",
    "data=\"I am very today as i am earning 100500 crores everyday\"\n",
    "d=re.findall(pattern,data)\n",
    "print(d)"
   ]
  },
  {
   "cell_type": "code",
   "execution_count": 113,
   "id": "f1b9ebb6-eda3-4890-a74c-3e0bd166f616",
   "metadata": {},
   "outputs": [
    {
     "name": "stdout",
     "output_type": "stream",
     "text": [
      "['I']\n"
     ]
    }
   ],
   "source": [
    "pattern=r'[A-Z]'\n",
    "data=\"I am very today as i am earning 100500 crores everyday\"\n",
    "d=re.findall(pattern,data)\n",
    "print(d)"
   ]
  },
  {
   "cell_type": "code",
   "execution_count": 115,
   "id": "24fb5839-0a38-4b41-b9e3-6c1d2c25499a",
   "metadata": {},
   "outputs": [
    {
     "name": "stdout",
     "output_type": "stream",
     "text": [
      "['I', 'a', 'm', 'v', 'e', 'r', 'y', 't', 'o', 'd', 'a', 'y', 'a', 's', 'i', 'a', 'm', 'e', 'a', 'r', 'n', 'i', 'n', 'g', 'c', 'r', 'o', 'r', 'e', 's', 'e', 'v', 'e', 'r', 'y', 'd', 'a', 'y']\n"
     ]
    }
   ],
   "source": [
    "pattern=r'[A-Za-z]'\n",
    "data=\"I am very today as i am earning 100500 crores everyday\"\n",
    "d=re.findall(pattern,data)\n",
    "print(d)"
   ]
  },
  {
   "cell_type": "code",
   "execution_count": 119,
   "id": "54077783-4374-4741-99fb-761165fe93c8",
   "metadata": {},
   "outputs": [
    {
     "name": "stdout",
     "output_type": "stream",
     "text": [
      "['i', ' ', 'g', 'o', 't', ' ', 'l', 'o', 't', 't', 'e', 'r', 'y', ' ', 'o', 'f', ' ', ' ', 'c', 'r', 'o', 'r', 'e', 's']\n"
     ]
    }
   ],
   "source": [
    "pattern =r'[^0-9]'\n",
    "data=\"i got lottery of 2345 crores\"\n",
    "e=re.findall(pattern,data)\n",
    "print(e)"
   ]
  },
  {
   "cell_type": "code",
   "execution_count": 125,
   "id": "93699ee0-9ef6-41a1-a826-bf16e53046df",
   "metadata": {},
   "outputs": [
    {
     "name": "stdin",
     "output_type": "stream",
     "text": [
      "Enter your password .nishu\n"
     ]
    },
    {
     "name": "stdout",
     "output_type": "stream",
     "text": [
      "valid password\n"
     ]
    }
   ],
   "source": [
    "pattern='[A-Z.]'\n",
    "password=input(\"Enter your password\")\n",
    "s=re.findall(pattern,password)\n",
    "if (s):\n",
    "    print (\"valid password\")\n",
    "else:\n",
    "    print(\"Invalid password\")"
   ]
  },
  {
   "cell_type": "markdown",
   "id": "6faaf23a-207a-4b0a-b9ba-0113f0c504e5",
   "metadata": {},
   "source": [
    "\\D- matches any non digit character\n",
    "\\w-matches alphanumeric,number,underscore\n",
    "\\W-not matches alphanumeric,number,underscore\n",
    "\\d-matches digit character\n",
    "\\s-matches whitespace character (tabs,space,newline)\n",
    "\\S-matches non-whitespace character\n",
    "\\b-matches word boundary\n",
    "\\A-startswith\n",
    "\\Z-endswith\n",
    "\\.-matches every character"
   ]
  },
  {
   "cell_type": "code",
   "execution_count": 133,
   "id": "1afe79f5-a4b0-4ae7-af31-d49ae69c0d61",
   "metadata": {},
   "outputs": [
    {
     "name": "stdin",
     "output_type": "stream",
     "text": [
      "Enter your password nisu123\n"
     ]
    },
    {
     "name": "stdout",
     "output_type": "stream",
     "text": [
      "valid password\n"
     ]
    }
   ],
   "source": [
    "pattern=r'\\D'\n",
    "password=input(\"Enter your password\")\n",
    "s=re.findall(pattern,password)\n",
    "if (s):\n",
    "    print (\"valid password\")\n",
    "else:\n",
    "    print(\"Invalid password\")"
   ]
  },
  {
   "cell_type": "code",
   "execution_count": 135,
   "id": "6e3b61c3-acb4-4788-b424-5e1520a6f2e6",
   "metadata": {},
   "outputs": [
    {
     "name": "stdin",
     "output_type": "stream",
     "text": [
      "Enter your password nishu@123\n"
     ]
    },
    {
     "name": "stdout",
     "output_type": "stream",
     "text": [
      "0 --> n\n",
      "1 --> i\n",
      "2 --> s\n",
      "3 --> h\n",
      "4 --> u\n",
      "5 --> @\n"
     ]
    }
   ],
   "source": [
    "pattern=r'\\D'\n",
    "password=input(\"Enter your password\")\n",
    "s=re.finditer(pattern,password)\n",
    "for match in s:\n",
    "    print(match.start(),\"-->\",match.group())"
   ]
  },
  {
   "cell_type": "code",
   "execution_count": 139,
   "id": "e97a4640-8446-4101-9065-350427cb5c88",
   "metadata": {},
   "outputs": [
    {
     "name": "stdin",
     "output_type": "stream",
     "text": [
      "Enter your password nishu@123\n"
     ]
    },
    {
     "name": "stdout",
     "output_type": "stream",
     "text": [
      "0 --> n 1 --> i 2 --> s 3 --> h 4 --> u 5 --> @ "
     ]
    }
   ],
   "source": [
    "pattern=r'\\D'\n",
    "password=input(\"Enter your password\")\n",
    "s=re.finditer(pattern,password)\n",
    "for match in s:\n",
    "    print(match.start(),\"-->\",match.group(),end=\" \")"
   ]
  },
  {
   "cell_type": "code",
   "execution_count": 141,
   "id": "dfad27ca-17cc-4434-94eb-99682aaef820",
   "metadata": {},
   "outputs": [
    {
     "name": "stdin",
     "output_type": "stream",
     "text": [
      "Enter your password nishu kkumari@ 123\n"
     ]
    },
    {
     "name": "stdout",
     "output_type": "stream",
     "text": [
      "5 -->   14 -->   "
     ]
    }
   ],
   "source": [
    "pattern=r'\\s'\n",
    "password=input(\"Enter your password\")\n",
    "s=re.finditer(pattern,password)\n",
    "for match in s:\n",
    "    print(match.start(),\"-->\",match.group(),end=\" \")"
   ]
  },
  {
   "cell_type": "code",
   "execution_count": 143,
   "id": "333f4011-8922-4ad0-b3d4-84f9217f811c",
   "metadata": {},
   "outputs": [
    {
     "name": "stdin",
     "output_type": "stream",
     "text": [
      "Enter your password Nishu @ 123\n"
     ]
    },
    {
     "name": "stdout",
     "output_type": "stream",
     "text": [
      "0 --> N 1 --> i 2 --> s 3 --> h 4 --> u 6 --> @ 8 --> 1 9 --> 2 10 --> 3 "
     ]
    }
   ],
   "source": [
    "pattern=r'\\S'\n",
    "password=input(\"Enter your password\")\n",
    "s=re.finditer(pattern,password)\n",
    "for match in s:\n",
    "    print(match.start(),\"-->\",match.group(),end=\" \")"
   ]
  },
  {
   "cell_type": "code",
   "execution_count": 151,
   "id": "b6ce43fa-5e77-42e1-98e9-2089353c04de",
   "metadata": {},
   "outputs": [
    {
     "name": "stdout",
     "output_type": "stream",
     "text": [
      "11 --> nishu "
     ]
    }
   ],
   "source": [
    "#to search a specific word \n",
    "pattern=r'\\bnishu\\b'\n",
    "sen=\"my name is nishu kumari\"\n",
    "s=re.finditer(pattern,sen)\n",
    "for match in s:\n",
    "    print(match.start(),\"-->\",match.group(),end=\" \")"
   ]
  },
  {
   "cell_type": "code",
   "execution_count": 157,
   "id": "6257ec5f-b258-4676-81e8-28b4d23f9040",
   "metadata": {},
   "outputs": [],
   "source": [
    "#\\A=startswith\n",
    "pattern=r'\\Amo'\n",
    "sen=\"my name is nishu kumari\"\n",
    "s=re.finditer(pattern,sen)\n",
    "for match in s:\n",
    "    print(match.start(),\"-->\",match.group(),end=\" \")"
   ]
  },
  {
   "cell_type": "code",
   "execution_count": 163,
   "id": "b2dbb9a9-ad6c-48ab-a712-e9d70df0e15f",
   "metadata": {},
   "outputs": [
    {
     "name": "stdout",
     "output_type": "stream",
     "text": [
      "3 --> n 11 --> n "
     ]
    }
   ],
   "source": [
    "# . --> matches every character\n",
    "pattern=r\"n\"\n",
    "sen=\"my name is nishu kumari\"\n",
    "s=re.finditer(pattern,sen)\n",
    "for match in s:\n",
    "    print(match.start(),\"-->\",match.group(),end=\" \")"
   ]
  },
  {
   "cell_type": "code",
   "execution_count": 167,
   "id": "6b710d85-84a6-44d4-a71a-af3d6120ce77",
   "metadata": {},
   "outputs": [
    {
     "name": "stdout",
     "output_type": "stream",
     "text": [
      "0 --> m 1 --> y 2 -->   3 --> n 4 --> a 5 --> m 6 --> e 7 -->   8 --> i 9 --> s 10 -->   11 --> n 12 --> i 13 --> s 14 --> h 15 --> u 16 --> . 17 --> k 18 --> u 19 --> m 20 --> a 21 --> r 22 --> i "
     ]
    }
   ],
   "source": [
    "pattern=r\".\"\n",
    "sen=\"my name is nishu.kumari\"\n",
    "s=re.finditer(pattern,sen)\n",
    "for match in s:\n",
    "    print(match.start(),\"-->\",match.group(),end=\" \")"
   ]
  },
  {
   "cell_type": "code",
   "execution_count": 173,
   "id": "efd9d662-f8c1-488d-a674-2be336531010",
   "metadata": {},
   "outputs": [
    {
     "name": "stdout",
     "output_type": "stream",
     "text": [
      "16 --> . "
     ]
    }
   ],
   "source": [
    "pattern=r\"\\.\"\n",
    "sen=\"my name is nishu.kumari\"\n",
    "s=re.finditer(pattern,sen)\n",
    "for match in s:\n",
    "    print(match.start(),\"-->\",match.group(),end=\" \")"
   ]
  },
  {
   "cell_type": "code",
   "execution_count": 175,
   "id": "b442c195-d4e0-4bc1-b5f5-b31f5474e48d",
   "metadata": {},
   "outputs": [
    {
     "name": "stdout",
     "output_type": "stream",
     "text": [
      "16 --> [] "
     ]
    }
   ],
   "source": [
    "pattern=r\"\\[]\"\n",
    "sen=\"my name is nishu[]kumari\"\n",
    "s=re.finditer(pattern,sen)\n",
    "for match in s:\n",
    "    print(match.start(),\"-->\",match.group(),end=\" \")"
   ]
  },
  {
   "cell_type": "code",
   "execution_count": 179,
   "id": "9bfff48a-a578-4c2e-8027-3d8aabbfc2f4",
   "metadata": {},
   "outputs": [
    {
     "name": "stdout",
     "output_type": "stream",
     "text": [
      "16 --> \\w "
     ]
    },
    {
     "name": "stderr",
     "output_type": "stream",
     "text": [
      "<>:2: SyntaxWarning: invalid escape sequence '\\w'\n",
      "<>:2: SyntaxWarning: invalid escape sequence '\\w'\n",
      "C:\\Users\\Sanke\\AppData\\Local\\Temp\\ipykernel_17752\\3743675334.py:2: SyntaxWarning: invalid escape sequence '\\w'\n",
      "  sen=\"my name is nishu\\wkumari\"\n"
     ]
    }
   ],
   "source": [
    "pattern=r\"\\\\w\"\n",
    "sen=\"my name is nishu\\wkumari\"\n",
    "s=re.finditer(pattern,sen)\n",
    "for match in s:\n",
    "    print(match.start(),\"-->\",match.group(),end=\" \")"
   ]
  },
  {
   "cell_type": "code",
   "execution_count": 181,
   "id": "29d14fad-14e4-4e9c-86e7-bcda086049a6",
   "metadata": {},
   "outputs": [
    {
     "name": "stdout",
     "output_type": "stream",
     "text": [
      "16 --> \\ "
     ]
    },
    {
     "name": "stderr",
     "output_type": "stream",
     "text": [
      "<>:2: SyntaxWarning: invalid escape sequence '\\k'\n",
      "<>:2: SyntaxWarning: invalid escape sequence '\\k'\n",
      "C:\\Users\\Sanke\\AppData\\Local\\Temp\\ipykernel_17752\\944236857.py:2: SyntaxWarning: invalid escape sequence '\\k'\n",
      "  sen=\"my name is nishu\\kumari\"\n"
     ]
    }
   ],
   "source": [
    "pattern=r\"\\\\\"\n",
    "sen=\"my name is nishu\\kumari\"\n",
    "s=re.finditer(pattern,sen)\n",
    "for match in s:\n",
    "    print(match.start(),\"-->\",match.group(),end=\" \")"
   ]
  },
  {
   "cell_type": "code",
   "execution_count": 189,
   "id": "9abbad62-36eb-44c2-9ef5-09071cf998c0",
   "metadata": {},
   "outputs": [
    {
     "name": "stdout",
     "output_type": "stream",
     "text": [
      "14 --> 11-01-2006 58 --> 13-06-2035 "
     ]
    }
   ],
   "source": [
    "#n times repititive digits \\d\"{n}\"\n",
    "#program to fetch dates\n",
    "pattern=r\"\\d{2}-\\d{2}-\\d{4}\"\n",
    "sen=\"I was bord on 11-01-2006 and i will became primemister on 13-06-2035\"\n",
    "s=re.finditer(pattern,sen)\n",
    "for match in s:\n",
    "    print(match.start(),\"-->\",match.group(),end=\" \")"
   ]
  },
  {
   "cell_type": "code",
   "execution_count": 191,
   "id": "942170a4-d9fb-4dc5-9309-2acf4cb1205f",
   "metadata": {},
   "outputs": [
    {
     "name": "stdout",
     "output_type": "stream",
     "text": [
      "0 --> h  1 --> i  2 --> i  3 -->    4 --> i  5 -->    6 --> a  7 --> m  8 -->    9 --> n  10 --> i  11 --> s  12 --> h  13 --> u  "
     ]
    }
   ],
   "source": [
    "# . doesnot matches \\n\n",
    "s=\".\"\n",
    "sen=\"hii i am nishu\\n\"\n",
    "e=re.finditer(s,sen)\n",
    "for match in e:\n",
    "    print (match.start(),\"-->\",match.group(),end=\"  \")"
   ]
  },
  {
   "cell_type": "code",
   "execution_count": 197,
   "id": "af325497-870b-49f2-9a5e-0de3d8d741ba",
   "metadata": {},
   "outputs": [
    {
     "name": "stdout",
     "output_type": "stream",
     "text": [
      "2 --> ll  6 --> l  8 --> l  15 --> lll  "
     ]
    }
   ],
   "source": [
    "# + ---> either one time or more than one time\n",
    "s=\"l+\"\n",
    "sen=\"hello lali and lllama\"\n",
    "e=re.finditer(s,sen)\n",
    "for match in e:\n",
    "    print (match.start(),\"-->\",match.group(),end=\"  \")"
   ]
  },
  {
   "cell_type": "code",
   "execution_count": 199,
   "id": "6017c3e9-2e37-49b2-88cc-5d5007d0685a",
   "metadata": {},
   "outputs": [
    {
     "name": "stdout",
     "output_type": "stream",
     "text": [
      "0 --> he  3 --> hee  7 --> heee  12 --> heeee  "
     ]
    }
   ],
   "source": [
    "s=\"he+\"\n",
    "sen=\"he hee heee heeee\"\n",
    "e=re.finditer(s,sen)\n",
    "for match in e:\n",
    "    print (match.start(),\"-->\",match.group(),end=\"  \")"
   ]
  },
  {
   "cell_type": "code",
   "execution_count": 201,
   "id": "6cc4c94c-8f89-467d-b60f-a08af17a2cfe",
   "metadata": {},
   "outputs": [
    {
     "name": "stdout",
     "output_type": "stream",
     "text": [
      "10 --> 90  13 --> 99  16 --> 87  19 --> 96  "
     ]
    }
   ],
   "source": [
    "marks=\"marks are 90,99,87,96\"\n",
    "s=r\"\\d\\d\"\n",
    "e=re.finditer(s,marks)\n",
    "for match in e:\n",
    "    print (match.start(),\"-->\",match.group(),end=\"  \")"
   ]
  },
  {
   "cell_type": "code",
   "execution_count": 203,
   "id": "702f569c-ad26-44cc-8ee5-10b9a2eb01bb",
   "metadata": {},
   "outputs": [
    {
     "name": "stdout",
     "output_type": "stream",
     "text": [
      "10 --> 90  13 --> 99  16 --> 87  19 --> 96  "
     ]
    }
   ],
   "source": [
    "marks=\"marks are 90,99,87,96\"\n",
    "s=r\"\\d{2}\"\n",
    "e=re.finditer(s,marks)\n",
    "for match in e:\n",
    "    print (match.start(),\"-->\",match.group(),end=\"  \")"
   ]
  },
  {
   "cell_type": "code",
   "execution_count": 205,
   "id": "f8321db1-cb9d-4aa2-a28a-478e2d8faec7",
   "metadata": {},
   "outputs": [
    {
     "name": "stdout",
     "output_type": "stream",
     "text": [
      "10 --> 99980  16 --> 99  19 --> 87  22 --> 96888  "
     ]
    }
   ],
   "source": [
    "marks=\"marks are 99980,99,87,96888\"\n",
    "s=r\"\\d+\"\n",
    "e=re.finditer(s,marks)\n",
    "for match in e:\n",
    "    print (match.start(),\"-->\",match.group(),end=\"  \")"
   ]
  },
  {
   "cell_type": "code",
   "execution_count": 211,
   "id": "cc295e1c-70f8-4145-a361-fe58a32fbda2",
   "metadata": {},
   "outputs": [
    {
     "name": "stdout",
     "output_type": "stream",
     "text": [
      "18 --> iamnishu6920@gmail.com  45 --> nishu4269@gmail.com  "
     ]
    },
    {
     "name": "stderr",
     "output_type": "stream",
     "text": [
      "<>:3: SyntaxWarning: invalid escape sequence '\\w'\n",
      "<>:3: SyntaxWarning: invalid escape sequence '\\w'\n",
      "C:\\Users\\Sanke\\AppData\\Local\\Temp\\ipykernel_17752\\4177172653.py:3: SyntaxWarning: invalid escape sequence '\\w'\n",
      "  pattern=\"\\w+@\\w+\\.\\w+\"\n"
     ]
    }
   ],
   "source": [
    "# PROGRAM TO FETCH E MAIL    logic= @ se pehle alphanumeric character hone chahiye\n",
    "data=\"i have two emails iamnishu6920@gmail.com and nishu4269@gmail.com\"\n",
    "pattern=\"\\w+@\\w+\\.\\w+\"\n",
    "e=re.finditer(pattern,data)\n",
    "for match in e:\n",
    "    print (match.start(),\"-->\",match.group(),end=\"  \")"
   ]
  },
  {
   "cell_type": "code",
   "execution_count": 221,
   "id": "8fa07dad-f3f7-4829-b6d5-25c5d754d25c",
   "metadata": {},
   "outputs": [
    {
     "name": "stdout",
     "output_type": "stream",
     "text": [
      "['', '', 'll', '', '', 'l', '', 'l', '', '']\n"
     ]
    }
   ],
   "source": [
    "# * - zero or more times \n",
    "#+ - one or more occurences\n",
    "pattern=r\"l*\"\n",
    "data=\"hello lali\"\n",
    "e=re.findall(pattern,data)\n",
    "print(e)"
   ]
  },
  {
   "cell_type": "code",
   "execution_count": 231,
   "id": "15e367b5-0503-4810-a080-ebb3874c673f",
   "metadata": {},
   "outputs": [
    {
     "name": "stdout",
     "output_type": "stream",
     "text": [
      "['abb', 'abbc', 'bb', 'bbc']\n"
     ]
    }
   ],
   "source": [
    "# a should br followed by b\n",
    "s=\" abb abbc bb bbc\"\n",
    "pattern=r'a*b+\\w'\n",
    "e=re.findall(pattern,s)\n",
    "print(e)"
   ]
  },
  {
   "cell_type": "code",
   "execution_count": 247,
   "id": "6d6b3b61-1004-4bde-9145-afda93ab7933",
   "metadata": {},
   "outputs": [
    {
     "name": "stdout",
     "output_type": "stream",
     "text": [
      "not with digit\n"
     ]
    },
    {
     "name": "stderr",
     "output_type": "stream",
     "text": [
      "<>:1: SyntaxWarning: invalid escape sequence '\\d'\n",
      "<>:1: SyntaxWarning: invalid escape sequence '\\d'\n",
      "C:\\Users\\Sanke\\AppData\\Local\\Temp\\ipykernel_17752\\1112874666.py:1: SyntaxWarning: invalid escape sequence '\\d'\n",
      "  s=\"\\d\"\n"
     ]
    }
   ],
   "source": [
    "s=\"\\d\"\n",
    "sen=\"my name is nishu my hobby is reading \"\n",
    "e=re.findall(s,sen)\n",
    "if(e):\n",
    "    print (\"starting with digit\")\n",
    "else:\n",
    "    print(\"not with digit\")"
   ]
  },
  {
   "cell_type": "code",
   "execution_count": 255,
   "id": "995ebc1d-69d7-4d3f-b8bf-36b54423b52a",
   "metadata": {},
   "outputs": [
    {
     "name": "stdout",
     "output_type": "stream",
     "text": [
      "starting with digit\n"
     ]
    }
   ],
   "source": [
    "s=r'[0-9]'\n",
    "sen=\"11my name is nishu my hobby is reading \"\n",
    "e=re.findall(s,sen)\n",
    "if(e):\n",
    "    print (\"starting with digit\")\n",
    "else:\n",
    "    print(\"not with digit\")"
   ]
  },
  {
   "cell_type": "code",
   "execution_count": 263,
   "id": "138d26ac-e76d-4b21-9c23-6598fae31b3b",
   "metadata": {},
   "outputs": [
    {
     "name": "stdout",
     "output_type": "stream",
     "text": [
      "['i', ' ', 'h', 'a', 'v', 'e', ' ', 'e', 'a', 'r', 'n', 'e', 'd', ' ', ' ', 'r', 'u', 'p', 'e', 'e', 's']\n"
     ]
    }
   ],
   "source": [
    "pattern=r\"[^0-9]\"# negation of digits\n",
    "data=\"i have earned 50 rupees\"\n",
    "e=re.findall(pattern,data)\n",
    "print(e)"
   ]
  },
  {
   "cell_type": "code",
   "execution_count": 293,
   "id": "e96f684c-2390-4351-bb3c-9aa962fad729",
   "metadata": {},
   "outputs": [
    {
     "name": "stdout",
     "output_type": "stream",
     "text": [
      "<re.Match object; span=(28, 31), match='550'>\n"
     ]
    }
   ],
   "source": [
    "# to check whether a number ends with digit or not\n",
    "pattern=r\"\\d{3}$\"\n",
    "data ='''i earned 344 \n",
    "also i earned 550'''\n",
    "e=re.finditer(pattern,data,re.MULTILINE)\n",
    "for match in e:\n",
    "    print(match)"
   ]
  },
  {
   "cell_type": "code",
   "execution_count": 297,
   "id": "a3fc31fd-d69f-4493-9ffc-3462cc7f1f79",
   "metadata": {},
   "outputs": [
    {
     "name": "stdout",
     "output_type": "stream",
     "text": [
      "<re.Match object; span=(0, 5), match='color'>\n",
      "<re.Match object; span=(6, 12), match='colour'>\n",
      "<re.Match object; span=(19, 25), match='colour'>\n"
     ]
    }
   ],
   "source": [
    "# ? - specicifies preceding character or group is optional\n",
    "pattern=\"colou?r\"\n",
    "data=\"color colour which colour do you choose\"\n",
    "e=re.finditer(pattern,data)\n",
    "for match in e:\n",
    "    print(match)"
   ]
  },
  {
   "cell_type": "code",
   "execution_count": 299,
   "id": "b1ccd912-1649-4edb-8b6f-e5089dc61bb3",
   "metadata": {},
   "outputs": [
    {
     "name": "stdout",
     "output_type": "stream",
     "text": [
      "<re.Match object; span=(11, 23), match='943-765-7877'>\n",
      "<re.Match object; span=(27, 37), match='9437657877'>\n"
     ]
    }
   ],
   "source": [
    "data=\"call me at 943-765-7877 or 9437657877\"\n",
    "pattern=r'\\d{3}-?\\d{3}-?\\d{4}'\n",
    "e=re.finditer(pattern,data)\n",
    "for match in e:\n",
    "    print(match)"
   ]
  },
  {
   "cell_type": "code",
   "execution_count": 313,
   "id": "af88a5e9-06f7-40ad-9d26-6490c134d865",
   "metadata": {},
   "outputs": [
    {
     "name": "stdout",
     "output_type": "stream",
     "text": [
      "Valid url https://nishu.com\n",
      "Valid url http://anshu.com\n",
      "Valid url https//son1am.com\n"
     ]
    }
   ],
   "source": [
    "urls=[\"https://nishu.com\",\"http://anshu.com\",\"https//son1am.com\"]\n",
    "pattern=r\"https?://\\w+\\.\\w+\"\n",
    "for url in urls:\n",
    "    if(url):\n",
    "        print(\"Valid url\",url)\n",
    "    else:\n",
    "        print(\"Invalid url\",url)"
   ]
  },
  {
   "cell_type": "code",
   "execution_count": 317,
   "id": "10efa076-2615-4dfa-a6bc-bb39fcb6911e",
   "metadata": {},
   "outputs": [
    {
     "name": "stdout",
     "output_type": "stream",
     "text": [
      "['9765664544', 'nishu@hhuj.com']\n"
     ]
    }
   ],
   "source": [
    "pattern=r\"\\d+|\\w+@\\w+\\.\\w+\"\n",
    "data=\"9765664544.nishu@hhuj.com\"\n",
    "e=re.findall(pattern,data)\n",
    "print(e)"
   ]
  },
  {
   "cell_type": "code",
   "execution_count": 329,
   "id": "9b98b1e8-e5ce-49aa-9630-87eabaf4e6ce",
   "metadata": {},
   "outputs": [
    {
     "name": "stdout",
     "output_type": "stream",
     "text": [
      "['python', 'Python']\n"
     ]
    }
   ],
   "source": [
    "pattern=r\"\\bpYthon\\b\"\n",
    "data=\"python is money , Python is fame\"\n",
    "e=re.findall(pattern,data,re.IGNORECASE)\n",
    "print(e)"
   ]
  },
  {
   "cell_type": "code",
   "execution_count": 331,
   "id": "1f53d0ff-30d8-4df5-9ab9-6b73d59afa6d",
   "metadata": {},
   "outputs": [
    {
     "name": "stdout",
     "output_type": "stream",
     "text": [
      "['123']\n"
     ]
    }
   ],
   "source": [
    "pattern=r\"\\d{3}$\"\n",
    "data=\"nishu 123\"\n",
    "e=re.findall(pattern,data,re.IGNORECASE)\n",
    "print(e)"
   ]
  },
  {
   "cell_type": "code",
   "execution_count": 333,
   "id": "11ab7dea-ad37-4b6a-a6a4-a15955819f22",
   "metadata": {},
   "outputs": [
    {
     "name": "stdout",
     "output_type": "stream",
     "text": [
      "['123', '123', '234']\n"
     ]
    }
   ],
   "source": [
    "data=\"\"\"nishu 123\n",
    "anshu 123\n",
    "sonam 234\n",
    "\"\"\"\n",
    "pattern=r\"\\d{3}$\"\n",
    "e=re.findall(pattern,data,re.MULTILINE)\n",
    "print(e)"
   ]
  },
  {
   "cell_type": "code",
   "execution_count": 335,
   "id": "e4879543-b234-4829-b4b7-4ee28ce11fa9",
   "metadata": {},
   "outputs": [
    {
     "name": "stdout",
     "output_type": "stream",
     "text": [
      "['h', 'e', 'l', 'l', 'o', '.', 'w', 'o', 'r', 'l', 'd']\n"
     ]
    }
   ],
   "source": [
    "data=\"hello.world\"\n",
    "pattern=r\".\"\n",
    "e=re.findall(pattern,data,re.DOTALL)\n",
    "print(e)"
   ]
  },
  {
   "cell_type": "code",
   "execution_count": 337,
   "id": "70b0753d-5270-40e1-8e48-7d3e760e3e1f",
   "metadata": {},
   "outputs": [
    {
     "name": "stdout",
     "output_type": "stream",
     "text": [
      "['h', 'e', 'l', 'l', 'o', '.', 'w', 'o', 'r', 'l', 'd']\n"
     ]
    }
   ],
   "source": [
    "data=\"hello.world\"\n",
    "pattern=r\".\"\n",
    "e=re.findall(pattern,data,re.S)\n",
    "print(e)"
   ]
  },
  {
   "cell_type": "code",
   "execution_count": 339,
   "id": "8a74629a-9f2e-4bca-909c-e9a9f66183c1",
   "metadata": {},
   "outputs": [
    {
     "name": "stdout",
     "output_type": "stream",
     "text": [
      "['hello.world']\n"
     ]
    }
   ],
   "source": [
    "pattern=r\"\\w+\\.\\w+#matchesdata\"\n",
    "data=\"hello.world\"\n",
    "e=re.findall(pattern,data,re.VERBOSE)\n",
    "print(e)"
   ]
  },
  {
   "cell_type": "code",
   "execution_count": 341,
   "id": "0d1251f7-6cd6-431f-941e-e048b02a6259",
   "metadata": {},
   "outputs": [
    {
     "name": "stdout",
     "output_type": "stream",
     "text": [
      "['hello.world']\n"
     ]
    }
   ],
   "source": [
    "pattern=r\"\\w+(?#matches data)\\.\\w+\"\n",
    "data=\"hello.world\"\n",
    "e=re.findall(pattern,data,re.VERBOSE)\n",
    "print(e)"
   ]
  },
  {
   "cell_type": "code",
   "execution_count": 343,
   "id": "39866c05-9184-40b1-bea2-8e0d44406771",
   "metadata": {},
   "outputs": [
    {
     "name": "stdout",
     "output_type": "stream",
     "text": [
      "['hello.world']\n"
     ]
    }
   ],
   "source": [
    "pattern=r\"\"\"\\w+  #match alphanumeric\n",
    "\\.  #match dot\n",
    "\\w+  #match alphanumeric \"\"\"\n",
    "data=\"hello.world\"\n",
    "e=re.findall(pattern,data,re.VERBOSE)\n",
    "print(e)"
   ]
  },
  {
   "cell_type": "code",
   "execution_count": 347,
   "id": "1d0d303c-e1e7-44b4-acfe-9c2db67bdb70",
   "metadata": {},
   "outputs": [
    {
     "name": "stdout",
     "output_type": "stream",
     "text": [
      "['to', 'ignore', 'non', 'ASCII', 'character', 'like', 'and', 'we', 'use', 're', 'ASCII', 'or', 're', 'A']\n"
     ]
    }
   ],
   "source": [
    "data=\"to ignore non ASCII character like $ and @ we use re.ASCII or re.A\"\n",
    "pattern=r\"\\b\\w+\\b\"\n",
    "e=re.findall(pattern,data,re.ASCII)\n",
    "print(e)"
   ]
  },
  {
   "cell_type": "code",
   "execution_count": 351,
   "id": "e0de0126-568c-41ec-a136-0c957db5ba06",
   "metadata": {},
   "outputs": [
    {
     "name": "stdout",
     "output_type": "stream",
     "text": [
      "['to', 'ignore', 'non', 'ASCII', 'character', 'like', 'and', 'we', 'use', 're', 'ASCII', 'or', 're', 'A']\n"
     ]
    }
   ],
   "source": [
    "data=\"to ignore non ASCII character like $ and @ we use re.ASCII or re.A\"\n",
    "pattern=re.compile(r\"\\b\\w+\\b\",re.ASCII)\n",
    "e=re.findall(pattern,data)\n",
    "print(e)"
   ]
  },
  {
   "cell_type": "code",
   "execution_count": 383,
   "id": "30f04e6e-eaff-464e-a2b3-2683e6d5718b",
   "metadata": {},
   "outputs": [
    {
     "name": "stdout",
     "output_type": "stream",
     "text": [
      "['8768', '', '83', '', '89', '']\n"
     ]
    }
   ],
   "source": [
    "data=\"8768@83 89\"\n",
    "pattern=r\"\\d*\"\n",
    "e=re.findall(pattern,data)\n",
    "print(e)"
   ]
  },
  {
   "cell_type": "code",
   "execution_count": 381,
   "id": "93e13349-e07a-4236-908e-2470f7a0b05f",
   "metadata": {},
   "outputs": [
    {
     "name": "stdout",
     "output_type": "stream",
     "text": [
      "['8768', '83', '89']\n"
     ]
    }
   ],
   "source": [
    "data=\"8768@83 89\"\n",
    "pattern=r\"\\d+\"\n",
    "e=re.findall(pattern,data)\n",
    "print(e)"
   ]
  },
  {
   "cell_type": "code",
   "execution_count": 379,
   "id": "0497459f-eb99-4fbc-9984-2335973d364c",
   "metadata": {},
   "outputs": [
    {
     "name": "stdout",
     "output_type": "stream",
     "text": [
      "['87', '36', '83', '89']\n"
     ]
    }
   ],
   "source": [
    "data=\"87368@83 89\"\n",
    "pattern=r\"\\d{2}\"\n",
    "e=re.findall(pattern,data)\n",
    "print(e)"
   ]
  },
  {
   "cell_type": "code",
   "execution_count": 377,
   "id": "8c4bc25b-891a-4cc2-b821-0183d8501a2e",
   "metadata": {},
   "outputs": [
    {
     "name": "stdout",
     "output_type": "stream",
     "text": [
      "['8768', '83234', '43567']\n"
     ]
    }
   ],
   "source": [
    "data=\"8768@83234 891 435678(?#matches 4 or 5 digits together)\"\n",
    "pattern=r\"\\d{4,5}\"\n",
    "e=re.findall(pattern,data,re.VERBOSE)\n",
    "print(e)"
   ]
  },
  {
   "cell_type": "code",
   "execution_count": 375,
   "id": "67d48819-a179-4f7d-af7e-39cf6d856d3f",
   "metadata": {},
   "outputs": [
    {
     "name": "stdout",
     "output_type": "stream",
     "text": [
      "['8768', '83234', '435678']\n"
     ]
    }
   ],
   "source": [
    "data=\"8768@83234 891 435678(?#matches MINIMUM 4 OCCURENCE)\"\n",
    "pattern=r\"\\d{4,}\"\n",
    "e=re.findall(pattern,data,re.VERBOSE)\n",
    "print(e)"
   ]
  },
  {
   "cell_type": "code",
   "execution_count": 387,
   "id": "5b30d5b9-f7a3-434a-9595-7fa64af51b9d",
   "metadata": {},
   "outputs": [
    {
     "name": "stdout",
     "output_type": "stream",
     "text": [
      "['8768', '', '8323', '4', '', '', '', '', '', '', '', '', '', '', '', '', '', '', '', '', '', '891', '', '4356', '78', '']\n"
     ]
    }
   ],
   "source": [
    "data=\"8768@83234(?#matches minimum 4 occurences) 891 435678\"\n",
    "pattern=r\"\\d{,4}\"\n",
    "e=re.findall(pattern,data,re.VERBOSE)\n",
    "print(e)"
   ]
  },
  {
   "cell_type": "code",
   "execution_count": 399,
   "id": "f02e0832-22ed-4f8e-b606-381b14f275c5",
   "metadata": {},
   "outputs": [
    {
     "name": "stdout",
     "output_type": "stream",
     "text": [
      "user name:  nishu\n",
      "domain name: kumari\n",
      "website name: com\n",
      "--------------\n",
      "user name:  anshu\n",
      "domain name: 123\n",
      "website name: com\n",
      "--------------\n",
      "user name:  sonam\n",
      "domain name: 123\n",
      "website name: com\n",
      "--------------\n"
     ]
    }
   ],
   "source": [
    "data=\"email address: nishu@kumari.com, anshu@123.com, sonam@123.com\"\n",
    "pattern=r\"(\\w+)@(\\w+)\\.(\\w+)\"\n",
    "e=re.findall(pattern,data)\n",
    "for match in e:\n",
    "    print(\"user name: \",match[0])\n",
    "    print(\"domain name:\",match[1])\n",
    "    print(\"website name:\",match[2])\n",
    "    print(\"--------------\")"
   ]
  },
  {
   "cell_type": "code",
   "execution_count": 413,
   "id": "ccd74905-9d5b-4447-bf33-0baefc638fb9",
   "metadata": {},
   "outputs": [
    {
     "name": "stdin",
     "output_type": "stream",
     "text": [
      "enter email 23nishu_kumari@gmail.com\n"
     ]
    },
    {
     "name": "stdout",
     "output_type": "stream",
     "text": [
      "invalid email\n"
     ]
    }
   ],
   "source": [
    "# program to check valid email input\n",
    "#\"email should start with alphabet ,_,\" \" \"\n",
    "data=input(\"enter email\")\n",
    "pattern=r\"^[A-Za-z_][\\w+_\\.]+@[A-Za-z]+\\.\\w+\"\n",
    "#^[1-9]------> starts with digit        [^1-9]------->starts not with digit\n",
    "e=re.findall(pattern,data,re.VERBOSE)\n",
    "if(e):\n",
    "    print(\"valid email\")\n",
    "else:\n",
    "    print(\"invalid email\")"
   ]
  },
  {
   "cell_type": "code",
   "execution_count": 442,
   "id": "ebb3c44f-f57c-4989-8be5-9d566edb4bb3",
   "metadata": {},
   "outputs": [
    {
     "name": "stdout",
     "output_type": "stream",
     "text": [
      "['(6889)987,965,7845']\n"
     ]
    }
   ],
   "source": [
    "data=\"(555) +91-907,576,3738      (6889)987,965,7845    (123)+91-907,865,4367\"\n",
    "# \\s---->whitespace \n",
    "pattern=r'\\(\\d{3,4}\\)\\s?(?:\\+d{2}-)?\\d{3},\\d{3},\\d{4}'\n",
    "e=re.findall(pattern,data)\n",
    "print(e)"
   ]
  },
  {
   "cell_type": "code",
   "execution_count": 446,
   "id": "c0afe5ce-7380-4d78-847a-6e98b9759577",
   "metadata": {},
   "outputs": [
    {
     "name": "stdout",
     "output_type": "stream",
     "text": [
      "i have a book\n"
     ]
    }
   ],
   "source": [
    "data=\"i     have   a       book\"\n",
    "text=data.strip()\n",
    "pattern=r'\\s+'\n",
    "cleaned_text=re.sub(pattern,\" \",text)\n",
    "print(cleaned_text)"
   ]
  },
  {
   "cell_type": "code",
   "execution_count": null,
   "id": "d5425be7-f8cf-4f39-b8eb-16ce509728bc",
   "metadata": {},
   "outputs": [],
   "source": []
  }
 ],
 "metadata": {
  "kernelspec": {
   "display_name": "Python 3 (ipykernel)",
   "language": "python",
   "name": "python3"
  },
  "language_info": {
   "codemirror_mode": {
    "name": "ipython",
    "version": 3
   },
   "file_extension": ".py",
   "mimetype": "text/x-python",
   "name": "python",
   "nbconvert_exporter": "python",
   "pygments_lexer": "ipython3",
   "version": "3.12.4"
  }
 },
 "nbformat": 4,
 "nbformat_minor": 5
}
