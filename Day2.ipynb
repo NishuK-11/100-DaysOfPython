{
 "cells": [
  {
   "cell_type": "markdown",
   "id": "f8f9d5ea-6d3b-493b-9746-62acf25a95c4",
   "metadata": {},
   "source": [
    "#Removing  a particular character from the entered string"
   ]
  },
  {
   "cell_type": "code",
   "execution_count": 72,
   "id": "e3316eff-5df3-441f-a7bd-34a788fd4729",
   "metadata": {},
   "outputs": [
    {
     "name": "stdin",
     "output_type": "stream",
     "text": [
      "Enter a String  huihih\n",
      "Enter the character to be removed h\n"
     ]
    },
    {
     "name": "stdout",
     "output_type": "stream",
     "text": [
      "uii\n"
     ]
    }
   ],
   "source": [
    "str=input(\"Enter a String \")\n",
    "c=input(\"Enter the character to be removed\")\n",
    "result=\"\"\n",
    "for i in str:\n",
    "    if i!=c:\n",
    "        result=result+i\n",
    "print(result)"
   ]
  },
  {
   "cell_type": "code",
   "execution_count": 74,
   "id": "f68e0526-c67d-4557-9874-b861fd98f22c",
   "metadata": {},
   "outputs": [
    {
     "name": "stdin",
     "output_type": "stream",
     "text": [
      "Enter a number 677\n"
     ]
    },
    {
     "name": "stdout",
     "output_type": "stream",
     "text": [
      "Not Palindrome\n"
     ]
    }
   ],
   "source": [
    "# palindrome or not  --->   121\n",
    "n=int(input(\"Enter a number\"))\n",
    "original_num=n;\n",
    "s=0  \n",
    "while n!=0:\n",
    "    r=n%10\n",
    "    s=s*10+r;\n",
    "    n=n//10;\n",
    "if (original_num==s):\n",
    "    print(\"Palindrome\")\n",
    "else:\n",
    "    print(\"Not Palindrome\")\n"
   ]
  },
  {
   "cell_type": "code",
   "execution_count": 78,
   "id": "74faae13-780e-416f-9e82-621d8d7c5845",
   "metadata": {},
   "outputs": [
    {
     "ename": "FileExistsError",
     "evalue": "[WinError 183] Cannot create a file when that file already exists: 'data/day1'",
     "output_type": "error",
     "traceback": [
      "\u001b[1;31m---------------------------------------------------------------------------\u001b[0m",
      "\u001b[1;31mFileExistsError\u001b[0m                           Traceback (most recent call last)",
      "Cell \u001b[1;32mIn[78], line 5\u001b[0m\n\u001b[0;32m      3\u001b[0m     os\u001b[38;5;241m.\u001b[39mmkdir(\u001b[38;5;124m\"\u001b[39m\u001b[38;5;124mdata\u001b[39m\u001b[38;5;124m\"\u001b[39m)\n\u001b[0;32m      4\u001b[0m \u001b[38;5;28;01mfor\u001b[39;00m i \u001b[38;5;129;01min\u001b[39;00m \u001b[38;5;28mrange\u001b[39m (\u001b[38;5;241m0\u001b[39m,\u001b[38;5;241m100\u001b[39m):\n\u001b[1;32m----> 5\u001b[0m     os\u001b[38;5;241m.\u001b[39mmkdir(\u001b[38;5;124mf\u001b[39m\u001b[38;5;124m\"\u001b[39m\u001b[38;5;124mdata/day\u001b[39m\u001b[38;5;132;01m{\u001b[39;00mi\u001b[38;5;241m+\u001b[39m\u001b[38;5;241m1\u001b[39m\u001b[38;5;132;01m}\u001b[39;00m\u001b[38;5;124m\"\u001b[39m)\n",
      "\u001b[1;31mFileExistsError\u001b[0m: [WinError 183] Cannot create a file when that file already exists: 'data/day1'"
     ]
    }
   ],
   "source": [
    "import os\n",
    "if (not os.path.exists(\"data\")):\n",
    "    os.mkdir(\"data\")\n",
    "for i in range (0,100):\n",
    "    os.mkdir(f\"data/day{i+1}\")"
   ]
  },
  {
   "cell_type": "code",
   "execution_count": 38,
   "id": "76ad97b5-6e8a-4523-b552-58f07a132e91",
   "metadata": {},
   "outputs": [],
   "source": [
    "for i in range(0,100):\n",
    "    os.rename(f\"data/Tutorial{i+1}\",f\"data/Tutorial  {i+1}\")"
   ]
  },
  {
   "cell_type": "code",
   "execution_count": 46,
   "id": "aa84fb59-136e-4f03-8301-10f4acd897da",
   "metadata": {},
   "outputs": [
    {
     "name": "stdout",
     "output_type": "stream",
     "text": [
      "['Tutorial  1', 'Tutorial  10', 'Tutorial  100', 'Tutorial  11', 'Tutorial  12', 'Tutorial  13', 'Tutorial  14', 'Tutorial  15', 'Tutorial  16', 'Tutorial  17', 'Tutorial  18', 'Tutorial  19', 'Tutorial  2', 'Tutorial  20', 'Tutorial  21', 'Tutorial  22', 'Tutorial  23', 'Tutorial  24', 'Tutorial  25', 'Tutorial  26', 'Tutorial  27', 'Tutorial  28', 'Tutorial  29', 'Tutorial  3', 'Tutorial  30', 'Tutorial  31', 'Tutorial  32', 'Tutorial  33', 'Tutorial  34', 'Tutorial  35', 'Tutorial  36', 'Tutorial  37', 'Tutorial  38', 'Tutorial  39', 'Tutorial  4', 'Tutorial  40', 'Tutorial  41', 'Tutorial  42', 'Tutorial  43', 'Tutorial  44', 'Tutorial  45', 'Tutorial  46', 'Tutorial  47', 'Tutorial  48', 'Tutorial  49', 'Tutorial  5', 'Tutorial  50', 'Tutorial  51', 'Tutorial  52', 'Tutorial  53', 'Tutorial  54', 'Tutorial  55', 'Tutorial  56', 'Tutorial  57', 'Tutorial  58', 'Tutorial  59', 'Tutorial  6', 'Tutorial  60', 'Tutorial  61', 'Tutorial  62', 'Tutorial  63', 'Tutorial  64', 'Tutorial  65', 'Tutorial  66', 'Tutorial  67', 'Tutorial  68', 'Tutorial  69', 'Tutorial  7', 'Tutorial  70', 'Tutorial  71', 'Tutorial  72', 'Tutorial  73', 'Tutorial  74', 'Tutorial  75', 'Tutorial  76', 'Tutorial  77', 'Tutorial  78', 'Tutorial  79', 'Tutorial  8', 'Tutorial  80', 'Tutorial  81', 'Tutorial  82', 'Tutorial  83', 'Tutorial  84', 'Tutorial  85', 'Tutorial  86', 'Tutorial  87', 'Tutorial  88', 'Tutorial  89', 'Tutorial  9', 'Tutorial  90', 'Tutorial  91', 'Tutorial  92', 'Tutorial  93', 'Tutorial  94', 'Tutorial  95', 'Tutorial  96', 'Tutorial  97', 'Tutorial  98', 'Tutorial  99']\n",
      "Tutorial  1\n",
      "[]\n",
      "Tutorial  10\n",
      "[]\n",
      "Tutorial  100\n",
      "[]\n",
      "Tutorial  11\n",
      "[]\n",
      "Tutorial  12\n",
      "[]\n",
      "Tutorial  13\n",
      "[]\n",
      "Tutorial  14\n",
      "[]\n",
      "Tutorial  15\n",
      "[]\n",
      "Tutorial  16\n",
      "[]\n",
      "Tutorial  17\n",
      "[]\n",
      "Tutorial  18\n",
      "[]\n",
      "Tutorial  19\n",
      "[]\n",
      "Tutorial  2\n",
      "[]\n",
      "Tutorial  20\n",
      "[]\n",
      "Tutorial  21\n",
      "[]\n",
      "Tutorial  22\n",
      "[]\n",
      "Tutorial  23\n",
      "[]\n",
      "Tutorial  24\n",
      "[]\n",
      "Tutorial  25\n",
      "[]\n",
      "Tutorial  26\n",
      "[]\n",
      "Tutorial  27\n",
      "[]\n",
      "Tutorial  28\n",
      "[]\n",
      "Tutorial  29\n",
      "[]\n",
      "Tutorial  3\n",
      "[]\n",
      "Tutorial  30\n",
      "[]\n",
      "Tutorial  31\n",
      "[]\n",
      "Tutorial  32\n",
      "[]\n",
      "Tutorial  33\n",
      "[]\n",
      "Tutorial  34\n",
      "[]\n",
      "Tutorial  35\n",
      "[]\n",
      "Tutorial  36\n",
      "[]\n",
      "Tutorial  37\n",
      "[]\n",
      "Tutorial  38\n",
      "[]\n",
      "Tutorial  39\n",
      "[]\n",
      "Tutorial  4\n",
      "[]\n",
      "Tutorial  40\n",
      "[]\n",
      "Tutorial  41\n",
      "[]\n",
      "Tutorial  42\n",
      "[]\n",
      "Tutorial  43\n",
      "[]\n",
      "Tutorial  44\n",
      "[]\n",
      "Tutorial  45\n",
      "[]\n",
      "Tutorial  46\n",
      "[]\n",
      "Tutorial  47\n",
      "[]\n",
      "Tutorial  48\n",
      "[]\n",
      "Tutorial  49\n",
      "[]\n",
      "Tutorial  5\n",
      "[]\n",
      "Tutorial  50\n",
      "[]\n",
      "Tutorial  51\n",
      "[]\n",
      "Tutorial  52\n",
      "[]\n",
      "Tutorial  53\n",
      "[]\n",
      "Tutorial  54\n",
      "[]\n",
      "Tutorial  55\n",
      "[]\n",
      "Tutorial  56\n",
      "[]\n",
      "Tutorial  57\n",
      "[]\n",
      "Tutorial  58\n",
      "[]\n",
      "Tutorial  59\n",
      "[]\n",
      "Tutorial  6\n",
      "[]\n",
      "Tutorial  60\n",
      "[]\n",
      "Tutorial  61\n",
      "[]\n",
      "Tutorial  62\n",
      "[]\n",
      "Tutorial  63\n",
      "[]\n",
      "Tutorial  64\n",
      "[]\n",
      "Tutorial  65\n",
      "[]\n",
      "Tutorial  66\n",
      "[]\n",
      "Tutorial  67\n",
      "[]\n",
      "Tutorial  68\n",
      "[]\n",
      "Tutorial  69\n",
      "[]\n",
      "Tutorial  7\n",
      "[]\n",
      "Tutorial  70\n",
      "[]\n",
      "Tutorial  71\n",
      "[]\n",
      "Tutorial  72\n",
      "[]\n",
      "Tutorial  73\n",
      "[]\n",
      "Tutorial  74\n",
      "[]\n",
      "Tutorial  75\n",
      "[]\n",
      "Tutorial  76\n",
      "[]\n",
      "Tutorial  77\n",
      "[]\n",
      "Tutorial  78\n",
      "[]\n",
      "Tutorial  79\n",
      "[]\n",
      "Tutorial  8\n",
      "[]\n",
      "Tutorial  80\n",
      "[]\n",
      "Tutorial  81\n",
      "[]\n",
      "Tutorial  82\n",
      "[]\n",
      "Tutorial  83\n",
      "[]\n",
      "Tutorial  84\n",
      "[]\n",
      "Tutorial  85\n",
      "[]\n",
      "Tutorial  86\n",
      "[]\n",
      "Tutorial  87\n",
      "[]\n",
      "Tutorial  88\n",
      "[]\n",
      "Tutorial  89\n",
      "[]\n",
      "Tutorial  9\n",
      "[]\n",
      "Tutorial  90\n",
      "[]\n",
      "Tutorial  91\n",
      "[]\n",
      "Tutorial  92\n",
      "[]\n",
      "Tutorial  93\n",
      "[]\n",
      "Tutorial  94\n",
      "[]\n",
      "Tutorial  95\n",
      "[]\n",
      "Tutorial  96\n",
      "[]\n",
      "Tutorial  97\n",
      "[]\n",
      "Tutorial  98\n",
      "[]\n",
      "Tutorial  99\n",
      "[]\n"
     ]
    }
   ],
   "source": [
    "folders=os.listdir(\"data\")\n",
    "print(folders)\n",
    "for folder in folders:\n",
    "    print(folder)\n",
    "    print(os.listdir(f\"data/{folder}\"))"
   ]
  },
  {
   "cell_type": "code",
   "execution_count": 48,
   "id": "0b5b8cea-19a2-4d91-9bc6-b566ebcda103",
   "metadata": {},
   "outputs": [
    {
     "name": "stdout",
     "output_type": "stream",
     "text": [
      "D:\\100 Days of Python\n"
     ]
    }
   ],
   "source": [
    "print(os.getcwd())"
   ]
  },
  {
   "cell_type": "code",
   "execution_count": 54,
   "id": "aba9781b-8c8d-4a39-868b-0fca8915180b",
   "metadata": {},
   "outputs": [
    {
     "name": "stdout",
     "output_type": "stream",
     "text": [
      "D:\\c++\n"
     ]
    }
   ],
   "source": [
    "os.chdir(\"/c++\")\n",
    "print(os.getcwd())"
   ]
  },
  {
   "cell_type": "code",
   "execution_count": 68,
   "id": "6c454e15-10f5-452a-b51f-274ef31fac1b",
   "metadata": {},
   "outputs": [],
   "source": [
    "import numpy as np\n",
    "import pandas as pd"
   ]
  },
  {
   "cell_type": "code",
   "execution_count": 70,
   "id": "2edcc285-7442-4f8d-a4a1-b6e0614a2042",
   "metadata": {},
   "outputs": [
    {
     "ename": "FileNotFoundError",
     "evalue": "[Errno 2] No such file or directory: 'matches.csv'",
     "output_type": "error",
     "traceback": [
      "\u001b[1;31m---------------------------------------------------------------------------\u001b[0m",
      "\u001b[1;31mFileNotFoundError\u001b[0m                         Traceback (most recent call last)",
      "Cell \u001b[1;32mIn[70], line 1\u001b[0m\n\u001b[1;32m----> 1\u001b[0m d1\u001b[38;5;241m=\u001b[39mpd\u001b[38;5;241m.\u001b[39mread_csv(\u001b[38;5;124m'\u001b[39m\u001b[38;5;124mmatches.csv\u001b[39m\u001b[38;5;124m'\u001b[39m)\n\u001b[0;32m      2\u001b[0m d1\n",
      "File \u001b[1;32m~\\anaconda3\\Lib\\site-packages\\pandas\\io\\parsers\\readers.py:1026\u001b[0m, in \u001b[0;36mread_csv\u001b[1;34m(filepath_or_buffer, sep, delimiter, header, names, index_col, usecols, dtype, engine, converters, true_values, false_values, skipinitialspace, skiprows, skipfooter, nrows, na_values, keep_default_na, na_filter, verbose, skip_blank_lines, parse_dates, infer_datetime_format, keep_date_col, date_parser, date_format, dayfirst, cache_dates, iterator, chunksize, compression, thousands, decimal, lineterminator, quotechar, quoting, doublequote, escapechar, comment, encoding, encoding_errors, dialect, on_bad_lines, delim_whitespace, low_memory, memory_map, float_precision, storage_options, dtype_backend)\u001b[0m\n\u001b[0;32m   1013\u001b[0m kwds_defaults \u001b[38;5;241m=\u001b[39m _refine_defaults_read(\n\u001b[0;32m   1014\u001b[0m     dialect,\n\u001b[0;32m   1015\u001b[0m     delimiter,\n\u001b[1;32m   (...)\u001b[0m\n\u001b[0;32m   1022\u001b[0m     dtype_backend\u001b[38;5;241m=\u001b[39mdtype_backend,\n\u001b[0;32m   1023\u001b[0m )\n\u001b[0;32m   1024\u001b[0m kwds\u001b[38;5;241m.\u001b[39mupdate(kwds_defaults)\n\u001b[1;32m-> 1026\u001b[0m \u001b[38;5;28;01mreturn\u001b[39;00m _read(filepath_or_buffer, kwds)\n",
      "File \u001b[1;32m~\\anaconda3\\Lib\\site-packages\\pandas\\io\\parsers\\readers.py:620\u001b[0m, in \u001b[0;36m_read\u001b[1;34m(filepath_or_buffer, kwds)\u001b[0m\n\u001b[0;32m    617\u001b[0m _validate_names(kwds\u001b[38;5;241m.\u001b[39mget(\u001b[38;5;124m\"\u001b[39m\u001b[38;5;124mnames\u001b[39m\u001b[38;5;124m\"\u001b[39m, \u001b[38;5;28;01mNone\u001b[39;00m))\n\u001b[0;32m    619\u001b[0m \u001b[38;5;66;03m# Create the parser.\u001b[39;00m\n\u001b[1;32m--> 620\u001b[0m parser \u001b[38;5;241m=\u001b[39m TextFileReader(filepath_or_buffer, \u001b[38;5;241m*\u001b[39m\u001b[38;5;241m*\u001b[39mkwds)\n\u001b[0;32m    622\u001b[0m \u001b[38;5;28;01mif\u001b[39;00m chunksize \u001b[38;5;129;01mor\u001b[39;00m iterator:\n\u001b[0;32m    623\u001b[0m     \u001b[38;5;28;01mreturn\u001b[39;00m parser\n",
      "File \u001b[1;32m~\\anaconda3\\Lib\\site-packages\\pandas\\io\\parsers\\readers.py:1620\u001b[0m, in \u001b[0;36mTextFileReader.__init__\u001b[1;34m(self, f, engine, **kwds)\u001b[0m\n\u001b[0;32m   1617\u001b[0m     \u001b[38;5;28mself\u001b[39m\u001b[38;5;241m.\u001b[39moptions[\u001b[38;5;124m\"\u001b[39m\u001b[38;5;124mhas_index_names\u001b[39m\u001b[38;5;124m\"\u001b[39m] \u001b[38;5;241m=\u001b[39m kwds[\u001b[38;5;124m\"\u001b[39m\u001b[38;5;124mhas_index_names\u001b[39m\u001b[38;5;124m\"\u001b[39m]\n\u001b[0;32m   1619\u001b[0m \u001b[38;5;28mself\u001b[39m\u001b[38;5;241m.\u001b[39mhandles: IOHandles \u001b[38;5;241m|\u001b[39m \u001b[38;5;28;01mNone\u001b[39;00m \u001b[38;5;241m=\u001b[39m \u001b[38;5;28;01mNone\u001b[39;00m\n\u001b[1;32m-> 1620\u001b[0m \u001b[38;5;28mself\u001b[39m\u001b[38;5;241m.\u001b[39m_engine \u001b[38;5;241m=\u001b[39m \u001b[38;5;28mself\u001b[39m\u001b[38;5;241m.\u001b[39m_make_engine(f, \u001b[38;5;28mself\u001b[39m\u001b[38;5;241m.\u001b[39mengine)\n",
      "File \u001b[1;32m~\\anaconda3\\Lib\\site-packages\\pandas\\io\\parsers\\readers.py:1880\u001b[0m, in \u001b[0;36mTextFileReader._make_engine\u001b[1;34m(self, f, engine)\u001b[0m\n\u001b[0;32m   1878\u001b[0m     \u001b[38;5;28;01mif\u001b[39;00m \u001b[38;5;124m\"\u001b[39m\u001b[38;5;124mb\u001b[39m\u001b[38;5;124m\"\u001b[39m \u001b[38;5;129;01mnot\u001b[39;00m \u001b[38;5;129;01min\u001b[39;00m mode:\n\u001b[0;32m   1879\u001b[0m         mode \u001b[38;5;241m+\u001b[39m\u001b[38;5;241m=\u001b[39m \u001b[38;5;124m\"\u001b[39m\u001b[38;5;124mb\u001b[39m\u001b[38;5;124m\"\u001b[39m\n\u001b[1;32m-> 1880\u001b[0m \u001b[38;5;28mself\u001b[39m\u001b[38;5;241m.\u001b[39mhandles \u001b[38;5;241m=\u001b[39m get_handle(\n\u001b[0;32m   1881\u001b[0m     f,\n\u001b[0;32m   1882\u001b[0m     mode,\n\u001b[0;32m   1883\u001b[0m     encoding\u001b[38;5;241m=\u001b[39m\u001b[38;5;28mself\u001b[39m\u001b[38;5;241m.\u001b[39moptions\u001b[38;5;241m.\u001b[39mget(\u001b[38;5;124m\"\u001b[39m\u001b[38;5;124mencoding\u001b[39m\u001b[38;5;124m\"\u001b[39m, \u001b[38;5;28;01mNone\u001b[39;00m),\n\u001b[0;32m   1884\u001b[0m     compression\u001b[38;5;241m=\u001b[39m\u001b[38;5;28mself\u001b[39m\u001b[38;5;241m.\u001b[39moptions\u001b[38;5;241m.\u001b[39mget(\u001b[38;5;124m\"\u001b[39m\u001b[38;5;124mcompression\u001b[39m\u001b[38;5;124m\"\u001b[39m, \u001b[38;5;28;01mNone\u001b[39;00m),\n\u001b[0;32m   1885\u001b[0m     memory_map\u001b[38;5;241m=\u001b[39m\u001b[38;5;28mself\u001b[39m\u001b[38;5;241m.\u001b[39moptions\u001b[38;5;241m.\u001b[39mget(\u001b[38;5;124m\"\u001b[39m\u001b[38;5;124mmemory_map\u001b[39m\u001b[38;5;124m\"\u001b[39m, \u001b[38;5;28;01mFalse\u001b[39;00m),\n\u001b[0;32m   1886\u001b[0m     is_text\u001b[38;5;241m=\u001b[39mis_text,\n\u001b[0;32m   1887\u001b[0m     errors\u001b[38;5;241m=\u001b[39m\u001b[38;5;28mself\u001b[39m\u001b[38;5;241m.\u001b[39moptions\u001b[38;5;241m.\u001b[39mget(\u001b[38;5;124m\"\u001b[39m\u001b[38;5;124mencoding_errors\u001b[39m\u001b[38;5;124m\"\u001b[39m, \u001b[38;5;124m\"\u001b[39m\u001b[38;5;124mstrict\u001b[39m\u001b[38;5;124m\"\u001b[39m),\n\u001b[0;32m   1888\u001b[0m     storage_options\u001b[38;5;241m=\u001b[39m\u001b[38;5;28mself\u001b[39m\u001b[38;5;241m.\u001b[39moptions\u001b[38;5;241m.\u001b[39mget(\u001b[38;5;124m\"\u001b[39m\u001b[38;5;124mstorage_options\u001b[39m\u001b[38;5;124m\"\u001b[39m, \u001b[38;5;28;01mNone\u001b[39;00m),\n\u001b[0;32m   1889\u001b[0m )\n\u001b[0;32m   1890\u001b[0m \u001b[38;5;28;01massert\u001b[39;00m \u001b[38;5;28mself\u001b[39m\u001b[38;5;241m.\u001b[39mhandles \u001b[38;5;129;01mis\u001b[39;00m \u001b[38;5;129;01mnot\u001b[39;00m \u001b[38;5;28;01mNone\u001b[39;00m\n\u001b[0;32m   1891\u001b[0m f \u001b[38;5;241m=\u001b[39m \u001b[38;5;28mself\u001b[39m\u001b[38;5;241m.\u001b[39mhandles\u001b[38;5;241m.\u001b[39mhandle\n",
      "File \u001b[1;32m~\\anaconda3\\Lib\\site-packages\\pandas\\io\\common.py:873\u001b[0m, in \u001b[0;36mget_handle\u001b[1;34m(path_or_buf, mode, encoding, compression, memory_map, is_text, errors, storage_options)\u001b[0m\n\u001b[0;32m    868\u001b[0m \u001b[38;5;28;01melif\u001b[39;00m \u001b[38;5;28misinstance\u001b[39m(handle, \u001b[38;5;28mstr\u001b[39m):\n\u001b[0;32m    869\u001b[0m     \u001b[38;5;66;03m# Check whether the filename is to be opened in binary mode.\u001b[39;00m\n\u001b[0;32m    870\u001b[0m     \u001b[38;5;66;03m# Binary mode does not support 'encoding' and 'newline'.\u001b[39;00m\n\u001b[0;32m    871\u001b[0m     \u001b[38;5;28;01mif\u001b[39;00m ioargs\u001b[38;5;241m.\u001b[39mencoding \u001b[38;5;129;01mand\u001b[39;00m \u001b[38;5;124m\"\u001b[39m\u001b[38;5;124mb\u001b[39m\u001b[38;5;124m\"\u001b[39m \u001b[38;5;129;01mnot\u001b[39;00m \u001b[38;5;129;01min\u001b[39;00m ioargs\u001b[38;5;241m.\u001b[39mmode:\n\u001b[0;32m    872\u001b[0m         \u001b[38;5;66;03m# Encoding\u001b[39;00m\n\u001b[1;32m--> 873\u001b[0m         handle \u001b[38;5;241m=\u001b[39m \u001b[38;5;28mopen\u001b[39m(\n\u001b[0;32m    874\u001b[0m             handle,\n\u001b[0;32m    875\u001b[0m             ioargs\u001b[38;5;241m.\u001b[39mmode,\n\u001b[0;32m    876\u001b[0m             encoding\u001b[38;5;241m=\u001b[39mioargs\u001b[38;5;241m.\u001b[39mencoding,\n\u001b[0;32m    877\u001b[0m             errors\u001b[38;5;241m=\u001b[39merrors,\n\u001b[0;32m    878\u001b[0m             newline\u001b[38;5;241m=\u001b[39m\u001b[38;5;124m\"\u001b[39m\u001b[38;5;124m\"\u001b[39m,\n\u001b[0;32m    879\u001b[0m         )\n\u001b[0;32m    880\u001b[0m     \u001b[38;5;28;01melse\u001b[39;00m:\n\u001b[0;32m    881\u001b[0m         \u001b[38;5;66;03m# Binary mode\u001b[39;00m\n\u001b[0;32m    882\u001b[0m         handle \u001b[38;5;241m=\u001b[39m \u001b[38;5;28mopen\u001b[39m(handle, ioargs\u001b[38;5;241m.\u001b[39mmode)\n",
      "\u001b[1;31mFileNotFoundError\u001b[0m: [Errno 2] No such file or directory: 'matches.csv'"
     ]
    }
   ],
   "source": [
    "d1=pd.read_csv('matches.csv')\n",
    "d1"
   ]
  },
  {
   "cell_type": "code",
   "execution_count": null,
   "id": "2d8c97b2-b91c-4b59-b712-a0f6966d5ce2",
   "metadata": {},
   "outputs": [],
   "source": []
  }
 ],
 "metadata": {
  "kernelspec": {
   "display_name": "Python 3 (ipykernel)",
   "language": "python",
   "name": "python3"
  },
  "language_info": {
   "codemirror_mode": {
    "name": "ipython",
    "version": 3
   },
   "file_extension": ".py",
   "mimetype": "text/x-python",
   "name": "python",
   "nbconvert_exporter": "python",
   "pygments_lexer": "ipython3",
   "version": "3.12.4"
  }
 },
 "nbformat": 4,
 "nbformat_minor": 5
}
